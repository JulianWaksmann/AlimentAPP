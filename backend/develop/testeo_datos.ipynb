{
 "cells": [
  {
   "cell_type": "code",
   "execution_count": 4,
   "id": "0dd64fa2",
   "metadata": {},
   "outputs": [
    {
     "name": "stdout",
     "output_type": "stream",
     "text": [
      "Collecting pg8000\n",
      "  Obtaining dependency information for pg8000 from https://files.pythonhosted.org/packages/45/07/5fd183858dff4d24840f07fc845f213cd371a19958558607ba22035dadd7/pg8000-1.31.5-py3-none-any.whl.metadata\n",
      "  Downloading pg8000-1.31.5-py3-none-any.whl.metadata (88 kB)\n",
      "     ---------------------------------------- 0.0/88.8 kB ? eta -:--:--\n",
      "     -------- ----------------------------- 20.5/88.8 kB 320.0 kB/s eta 0:00:01\n",
      "     ----------------- -------------------- 41.0/88.8 kB 487.6 kB/s eta 0:00:01\n",
      "     ----------------------------------- -- 81.9/88.8 kB 651.6 kB/s eta 0:00:01\n",
      "     -------------------------------------- 88.8/88.8 kB 714.1 kB/s eta 0:00:00\n",
      "Requirement already satisfied: python-dateutil>=2.8.2 in c:\\users\\julian waksmann\\appdata\\local\\programs\\python\\python312\\lib\\site-packages (from pg8000) (2.9.0.post0)\n",
      "Collecting scramp>=1.4.5 (from pg8000)\n",
      "  Obtaining dependency information for scramp>=1.4.5 from https://files.pythonhosted.org/packages/69/bf/54b5d40bea1c1805175ead2d496c267f05eec87561687dd73ab76869d8d9/scramp-1.4.6-py3-none-any.whl.metadata\n",
      "  Downloading scramp-1.4.6-py3-none-any.whl.metadata (19 kB)\n",
      "Requirement already satisfied: six>=1.5 in c:\\users\\julian waksmann\\appdata\\local\\programs\\python\\python312\\lib\\site-packages (from python-dateutil>=2.8.2->pg8000) (1.17.0)\n",
      "Collecting asn1crypto>=1.5.1 (from scramp>=1.4.5->pg8000)\n",
      "  Obtaining dependency information for asn1crypto>=1.5.1 from https://files.pythonhosted.org/packages/c9/7f/09065fd9e27da0eda08b4d6897f1c13535066174cc023af248fc2a8d5e5a/asn1crypto-1.5.1-py2.py3-none-any.whl.metadata\n",
      "  Downloading asn1crypto-1.5.1-py2.py3-none-any.whl.metadata (13 kB)\n",
      "Downloading pg8000-1.31.5-py3-none-any.whl (57 kB)\n",
      "   ---------------------------------------- 0.0/57.8 kB ? eta -:--:--\n",
      "   ---------------------------------------- 57.8/57.8 kB 3.2 MB/s eta 0:00:00\n",
      "Downloading scramp-1.4.6-py3-none-any.whl (12 kB)\n",
      "Downloading asn1crypto-1.5.1-py2.py3-none-any.whl (105 kB)\n",
      "   ---------------------------------------- 0.0/105.0 kB ? eta -:--:--\n",
      "   ---------------------------------------- 105.0/105.0 kB 3.0 MB/s eta 0:00:00\n",
      "Installing collected packages: asn1crypto, scramp, pg8000\n",
      "Successfully installed asn1crypto-1.5.1 pg8000-1.31.5 scramp-1.4.6\n",
      "Note: you may need to restart the kernel to use updated packages.\n"
     ]
    },
    {
     "name": "stderr",
     "output_type": "stream",
     "text": [
      "\n",
      "[notice] A new release of pip is available: 23.2.1 -> 25.2\n",
      "[notice] To update, run: python.exe -m pip install --upgrade pip\n"
     ]
    }
   ],
   "source": [
    "pip install pg8000"
   ]
  },
  {
   "cell_type": "code",
   "execution_count": 33,
   "id": "e5d80c6d",
   "metadata": {},
   "outputs": [],
   "source": [
    "import os\n",
    "import ssl\n",
    "import pg8000\n",
    "import re"
   ]
  },
  {
   "cell_type": "code",
   "execution_count": 16,
   "id": "5626d6d1",
   "metadata": {},
   "outputs": [],
   "source": [
    "# conexion a RDS usando el bundle de Amazon, esto no es necesario desde lambda\n",
    "RDS_CA_PATH = os.getenv(\n",
    "    \"RDS_SSL_CA\",\n",
    "    r\"C:\\Users\\Julian Waksmann\\Documents\\03 UNIVERSIDAD\\AlimentAPP\\global-bundle.pem\",\n",
    ")\n",
    "\n",
    "ssl_context = ssl.create_default_context(cafile=RDS_CA_PATH)"
   ]
  },
  {
   "cell_type": "code",
   "execution_count": 29,
   "id": "58011f31",
   "metadata": {},
   "outputs": [],
   "source": [
    "# Variables\n",
    "ENV = 'dev'"
   ]
  },
  {
   "cell_type": "code",
   "execution_count": null,
   "id": "d175f08a",
   "metadata": {},
   "outputs": [],
   "source": [
    "PASSWORD_INPUT = input('ingrese contraseña')\n",
    "def get_connection():\n",
    "    \"\"\"\n",
    "    Abre una conexion pg8000 con SSL.\n",
    "    \"\"\"\n",
    "    return pg8000.connect(\n",
    "        host='db-alimentapp.cm7oyoiiqchb.us-east-1.rds.amazonaws.com',\n",
    "        port=5432,\n",
    "        database='postgres',\n",
    "        user='labo_team',\n",
    "        password=PASSWORD_INPUT,\n",
    "        ssl_context=ssl_context,\n",
    "        timeout=10,\n",
    "    )"
   ]
  },
  {
   "cell_type": "code",
   "execution_count": null,
   "id": "214a638f",
   "metadata": {},
   "outputs": [],
   "source": [
    "def run_query(sql: str):\n",
    "    \"\"\"\n",
    "    Ejecuta un SELECT y devuelve filas como diccionarios.\n",
    "    \"\"\"\n",
    "    conn = get_connection()\n",
    "    try:\n",
    "        cur = conn.cursor()\n",
    "        cur.execute(sql)\n",
    "        rows = cur.fetchall()\n",
    "        if not rows:\n",
    "            return []\n",
    "        columns = [desc[0] for desc in cur.description]\n",
    "        return [dict(zip(columns, row)) for row in rows]\n",
    "    finally:\n",
    "        conn.close()\n",
    "\n",
    "def run_command(sql: str):\n",
    "    \"\"\"\n",
    "    Ejecuta INSERT/UPDATE/DELETE y hace commit.\n",
    "    \"\"\"\n",
    "    conn = get_connection()\n",
    "    try:\n",
    "        cur = conn.cursor()\n",
    "        cur.execute(sql)\n",
    "        conn.commit()\n",
    "    finally:\n",
    "        conn.close()"
   ]
  },
  {
   "cell_type": "markdown",
   "id": "2b89cc85",
   "metadata": {},
   "source": [
    "# get_clients"
   ]
  },
  {
   "cell_type": "code",
   "execution_count": 90,
   "id": "ad1c714a",
   "metadata": {},
   "outputs": [
    {
     "ename": "ProgrammingError",
     "evalue": "{'S': 'FATAL', 'V': 'FATAL', 'C': '28P01', 'M': 'password authentication failed for user \"labo_team\"', 'F': 'auth.c', 'L': '321', 'R': 'auth_failed'}",
     "output_type": "error",
     "traceback": [
      "\u001b[31m---------------------------------------------------------------------------\u001b[39m",
      "\u001b[31mDatabaseError\u001b[39m                             Traceback (most recent call last)",
      "\u001b[36mFile \u001b[39m\u001b[32mc:\\Users\\Julian Waksmann\\AppData\\Local\\Programs\\Python\\Python312\\Lib\\site-packages\\pg8000\\legacy.py:445\u001b[39m, in \u001b[36mConnection.__init__\u001b[39m\u001b[34m(self, *args, **kwargs)\u001b[39m\n\u001b[32m    444\u001b[39m \u001b[38;5;28;01mtry\u001b[39;00m:\n\u001b[32m--> \u001b[39m\u001b[32m445\u001b[39m     \u001b[38;5;28;43msuper\u001b[39;49m\u001b[43m(\u001b[49m\u001b[43m)\u001b[49m\u001b[43m.\u001b[49m\u001b[34;43m__init__\u001b[39;49m\u001b[43m(\u001b[49m\u001b[43m*\u001b[49m\u001b[43margs\u001b[49m\u001b[43m,\u001b[49m\u001b[43m \u001b[49m\u001b[43m*\u001b[49m\u001b[43m*\u001b[49m\u001b[43mkwargs\u001b[49m\u001b[43m)\u001b[49m\n\u001b[32m    446\u001b[39m \u001b[38;5;28;01mexcept\u001b[39;00m DatabaseError \u001b[38;5;28;01mas\u001b[39;00m e:\n",
      "\u001b[36mFile \u001b[39m\u001b[32mc:\\Users\\Julian Waksmann\\AppData\\Local\\Programs\\Python\\Python312\\Lib\\site-packages\\pg8000\\core.py:398\u001b[39m, in \u001b[36mCoreConnection.__init__\u001b[39m\u001b[34m(self, user, host, database, port, password, source_address, unix_sock, ssl_context, timeout, tcp_keepalive, application_name, replication, startup_params, sock)\u001b[39m\n\u001b[32m    397\u001b[39m     \u001b[38;5;28mself\u001b[39m.close()\n\u001b[32m--> \u001b[39m\u001b[32m398\u001b[39m     \u001b[38;5;28;01mraise\u001b[39;00m e\n\u001b[32m    400\u001b[39m \u001b[38;5;28mself\u001b[39m._transaction_status = \u001b[38;5;28;01mNone\u001b[39;00m\n",
      "\u001b[36mFile \u001b[39m\u001b[32mc:\\Users\\Julian Waksmann\\AppData\\Local\\Programs\\Python\\Python312\\Lib\\site-packages\\pg8000\\core.py:394\u001b[39m, in \u001b[36mCoreConnection.__init__\u001b[39m\u001b[34m(self, user, host, database, port, password, source_address, unix_sock, ssl_context, timeout, tcp_keepalive, application_name, replication, startup_params, sock)\u001b[39m\n\u001b[32m    393\u001b[39m     \u001b[38;5;28;01mif\u001b[39;00m context.error \u001b[38;5;129;01mis\u001b[39;00m \u001b[38;5;129;01mnot\u001b[39;00m \u001b[38;5;28;01mNone\u001b[39;00m:\n\u001b[32m--> \u001b[39m\u001b[32m394\u001b[39m         \u001b[38;5;28;01mraise\u001b[39;00m context.error\n\u001b[32m    396\u001b[39m \u001b[38;5;28;01mexcept\u001b[39;00m \u001b[38;5;167;01mBaseException\u001b[39;00m \u001b[38;5;28;01mas\u001b[39;00m e:\n",
      "\u001b[31mDatabaseError\u001b[39m: {'S': 'FATAL', 'V': 'FATAL', 'C': '28P01', 'M': 'password authentication failed for user \"labo_team\"', 'F': 'auth.c', 'L': '321', 'R': 'auth_failed'}",
      "\nDuring handling of the above exception, another exception occurred:\n",
      "\u001b[31mProgrammingError\u001b[39m                          Traceback (most recent call last)",
      "\u001b[36mCell\u001b[39m\u001b[36m \u001b[39m\u001b[32mIn[90]\u001b[39m\u001b[32m, line 4\u001b[39m\n\u001b[32m      1\u001b[39m get_clients_query = \u001b[33mf\u001b[39m\u001b[33m'\u001b[39m\u001b[33mSELECT * FROM \u001b[39m\u001b[38;5;132;01m{\u001b[39;00mENV\u001b[38;5;132;01m}\u001b[39;00m\u001b[33m.cliente\u001b[39m\u001b[33m'\u001b[39m\n\u001b[32m      3\u001b[39m \u001b[38;5;66;03m# Obtengo todos los clientes\u001b[39;00m\n\u001b[32m----> \u001b[39m\u001b[32m4\u001b[39m clients = \u001b[43mrun_query\u001b[49m\u001b[43m(\u001b[49m\u001b[43mget_clients_query\u001b[49m\u001b[43m)\u001b[49m\n",
      "\u001b[36mCell\u001b[39m\u001b[36m \u001b[39m\u001b[32mIn[6]\u001b[39m\u001b[32m, line 5\u001b[39m, in \u001b[36mrun_query\u001b[39m\u001b[34m(sql)\u001b[39m\n\u001b[32m      1\u001b[39m \u001b[38;5;28;01mdef\u001b[39;00m\u001b[38;5;250m \u001b[39m\u001b[34mrun_query\u001b[39m(sql: \u001b[38;5;28mstr\u001b[39m):\n\u001b[32m      2\u001b[39m \u001b[38;5;250m    \u001b[39m\u001b[33;03m\"\"\"\u001b[39;00m\n\u001b[32m      3\u001b[39m \u001b[33;03m    Ejecuta un SELECT y devuelve filas como diccionarios.\u001b[39;00m\n\u001b[32m      4\u001b[39m \u001b[33;03m    \"\"\"\u001b[39;00m\n\u001b[32m----> \u001b[39m\u001b[32m5\u001b[39m     conn = \u001b[43mget_connection\u001b[49m\u001b[43m(\u001b[49m\u001b[43m)\u001b[49m\n\u001b[32m      6\u001b[39m     \u001b[38;5;28;01mtry\u001b[39;00m:\n\u001b[32m      7\u001b[39m         cur = conn.cursor()\n",
      "\u001b[36mCell\u001b[39m\u001b[36m \u001b[39m\u001b[32mIn[89]\u001b[39m\u001b[32m, line 5\u001b[39m, in \u001b[36mget_connection\u001b[39m\u001b[34m()\u001b[39m\n\u001b[32m      1\u001b[39m \u001b[38;5;28;01mdef\u001b[39;00m\u001b[38;5;250m \u001b[39m\u001b[34mget_connection\u001b[39m():\n\u001b[32m      2\u001b[39m \u001b[38;5;250m    \u001b[39m\u001b[33;03m\"\"\"\u001b[39;00m\n\u001b[32m      3\u001b[39m \u001b[33;03m    Abre una conexion pg8000 con SSL.\u001b[39;00m\n\u001b[32m      4\u001b[39m \u001b[33;03m    \"\"\"\u001b[39;00m\n\u001b[32m----> \u001b[39m\u001b[32m5\u001b[39m     \u001b[38;5;28;01mreturn\u001b[39;00m \u001b[43mpg8000\u001b[49m\u001b[43m.\u001b[49m\u001b[43mconnect\u001b[49m\u001b[43m(\u001b[49m\n\u001b[32m      6\u001b[39m \u001b[43m        \u001b[49m\u001b[43mhost\u001b[49m\u001b[43m=\u001b[49m\u001b[33;43m'\u001b[39;49m\u001b[33;43mdb-alimentapp.cm7oyoiiqchb.us-east-1.rds.amazonaws.com\u001b[39;49m\u001b[33;43m'\u001b[39;49m\u001b[43m,\u001b[49m\n\u001b[32m      7\u001b[39m \u001b[43m        \u001b[49m\u001b[43mport\u001b[49m\u001b[43m=\u001b[49m\u001b[32;43m5432\u001b[39;49m\u001b[43m,\u001b[49m\n\u001b[32m      8\u001b[39m \u001b[43m        \u001b[49m\u001b[43mdatabase\u001b[49m\u001b[43m=\u001b[49m\u001b[33;43m'\u001b[39;49m\u001b[33;43mpostgres\u001b[39;49m\u001b[33;43m'\u001b[39;49m\u001b[43m,\u001b[49m\n\u001b[32m      9\u001b[39m \u001b[43m        \u001b[49m\u001b[43muser\u001b[49m\u001b[43m=\u001b[49m\u001b[33;43m'\u001b[39;49m\u001b[33;43mlabo_team\u001b[39;49m\u001b[33;43m'\u001b[39;49m\u001b[43m,\u001b[49m\n\u001b[32m     10\u001b[39m \u001b[43m        \u001b[49m\u001b[43mpassword\u001b[49m\u001b[43m=\u001b[49m\u001b[38;5;28;43minput\u001b[39;49m\u001b[43m(\u001b[49m\u001b[33;43m'\u001b[39;49m\u001b[33;43mingrese contraseña\u001b[39;49m\u001b[33;43m'\u001b[39;49m\u001b[43m)\u001b[49m\u001b[43m,\u001b[49m\n\u001b[32m     11\u001b[39m \u001b[43m        \u001b[49m\u001b[43mssl_context\u001b[49m\u001b[43m=\u001b[49m\u001b[43mssl_context\u001b[49m\u001b[43m,\u001b[49m\n\u001b[32m     12\u001b[39m \u001b[43m        \u001b[49m\u001b[43mtimeout\u001b[49m\u001b[43m=\u001b[49m\u001b[32;43m10\u001b[39;49m\u001b[43m,\u001b[49m\n\u001b[32m     13\u001b[39m \u001b[43m    \u001b[49m\u001b[43m)\u001b[49m\n",
      "\u001b[36mFile \u001b[39m\u001b[32mc:\\Users\\Julian Waksmann\\AppData\\Local\\Programs\\Python\\Python312\\Lib\\site-packages\\pg8000\\__init__.py:112\u001b[39m, in \u001b[36mconnect\u001b[39m\u001b[34m(user, host, database, port, password, source_address, unix_sock, ssl_context, timeout, tcp_keepalive, application_name, replication, startup_params)\u001b[39m\n\u001b[32m     97\u001b[39m \u001b[38;5;28;01mdef\u001b[39;00m\u001b[38;5;250m \u001b[39m\u001b[34mconnect\u001b[39m(\n\u001b[32m     98\u001b[39m     user,\n\u001b[32m     99\u001b[39m     host=\u001b[33m\"\u001b[39m\u001b[33mlocalhost\u001b[39m\u001b[33m\"\u001b[39m,\n\u001b[32m   (...)\u001b[39m\u001b[32m    110\u001b[39m     startup_params=\u001b[38;5;28;01mNone\u001b[39;00m,\n\u001b[32m    111\u001b[39m ):\n\u001b[32m--> \u001b[39m\u001b[32m112\u001b[39m     \u001b[38;5;28;01mreturn\u001b[39;00m \u001b[43mConnection\u001b[49m\u001b[43m(\u001b[49m\n\u001b[32m    113\u001b[39m \u001b[43m        \u001b[49m\u001b[43muser\u001b[49m\u001b[43m,\u001b[49m\n\u001b[32m    114\u001b[39m \u001b[43m        \u001b[49m\u001b[43mhost\u001b[49m\u001b[43m=\u001b[49m\u001b[43mhost\u001b[49m\u001b[43m,\u001b[49m\n\u001b[32m    115\u001b[39m \u001b[43m        \u001b[49m\u001b[43mdatabase\u001b[49m\u001b[43m=\u001b[49m\u001b[43mdatabase\u001b[49m\u001b[43m,\u001b[49m\n\u001b[32m    116\u001b[39m \u001b[43m        \u001b[49m\u001b[43mport\u001b[49m\u001b[43m=\u001b[49m\u001b[43mport\u001b[49m\u001b[43m,\u001b[49m\n\u001b[32m    117\u001b[39m \u001b[43m        \u001b[49m\u001b[43mpassword\u001b[49m\u001b[43m=\u001b[49m\u001b[43mpassword\u001b[49m\u001b[43m,\u001b[49m\n\u001b[32m    118\u001b[39m \u001b[43m        \u001b[49m\u001b[43msource_address\u001b[49m\u001b[43m=\u001b[49m\u001b[43msource_address\u001b[49m\u001b[43m,\u001b[49m\n\u001b[32m    119\u001b[39m \u001b[43m        \u001b[49m\u001b[43munix_sock\u001b[49m\u001b[43m=\u001b[49m\u001b[43munix_sock\u001b[49m\u001b[43m,\u001b[49m\n\u001b[32m    120\u001b[39m \u001b[43m        \u001b[49m\u001b[43mssl_context\u001b[49m\u001b[43m=\u001b[49m\u001b[43mssl_context\u001b[49m\u001b[43m,\u001b[49m\n\u001b[32m    121\u001b[39m \u001b[43m        \u001b[49m\u001b[43mtimeout\u001b[49m\u001b[43m=\u001b[49m\u001b[43mtimeout\u001b[49m\u001b[43m,\u001b[49m\n\u001b[32m    122\u001b[39m \u001b[43m        \u001b[49m\u001b[43mtcp_keepalive\u001b[49m\u001b[43m=\u001b[49m\u001b[43mtcp_keepalive\u001b[49m\u001b[43m,\u001b[49m\n\u001b[32m    123\u001b[39m \u001b[43m        \u001b[49m\u001b[43mapplication_name\u001b[49m\u001b[43m=\u001b[49m\u001b[43mapplication_name\u001b[49m\u001b[43m,\u001b[49m\n\u001b[32m    124\u001b[39m \u001b[43m        \u001b[49m\u001b[43mreplication\u001b[49m\u001b[43m=\u001b[49m\u001b[43mreplication\u001b[49m\u001b[43m,\u001b[49m\n\u001b[32m    125\u001b[39m \u001b[43m        \u001b[49m\u001b[43mstartup_params\u001b[49m\u001b[43m=\u001b[49m\u001b[43mstartup_params\u001b[49m\u001b[43m,\u001b[49m\n\u001b[32m    126\u001b[39m \u001b[43m    \u001b[49m\u001b[43m)\u001b[49m\n",
      "\u001b[36mFile \u001b[39m\u001b[32mc:\\Users\\Julian Waksmann\\AppData\\Local\\Programs\\Python\\Python312\\Lib\\site-packages\\pg8000\\legacy.py:458\u001b[39m, in \u001b[36mConnection.__init__\u001b[39m\u001b[34m(self, *args, **kwargs)\u001b[39m\n\u001b[32m    455\u001b[39m     \u001b[38;5;28;01melse\u001b[39;00m:\n\u001b[32m    456\u001b[39m         \u001b[38;5;28mcls\u001b[39m = ProgrammingError\n\u001b[32m--> \u001b[39m\u001b[32m458\u001b[39m     \u001b[38;5;28;01mraise\u001b[39;00m \u001b[38;5;28mcls\u001b[39m(msg)\n\u001b[32m    459\u001b[39m \u001b[38;5;28;01melse\u001b[39;00m:\n\u001b[32m    460\u001b[39m     \u001b[38;5;28;01mraise\u001b[39;00m ProgrammingError(msg)\n",
      "\u001b[31mProgrammingError\u001b[39m: {'S': 'FATAL', 'V': 'FATAL', 'C': '28P01', 'M': 'password authentication failed for user \"labo_team\"', 'F': 'auth.c', 'L': '321', 'R': 'auth_failed'}"
     ]
    }
   ],
   "source": [
    "get_clients_query = f'SELECT * FROM {ENV}.cliente'\n",
    "\n",
    "# Obtengo todos los clientes\n",
    "clients = run_query(get_clients_query)"
   ]
  },
  {
   "cell_type": "markdown",
   "id": "980f425e",
   "metadata": {},
   "source": [
    "# Post nuevo cliente"
   ]
  },
  {
   "cell_type": "code",
   "execution_count": 40,
   "id": "2ed2d7c6",
   "metadata": {},
   "outputs": [],
   "source": [
    "class ValidationError(Exception):\n",
    "    pass\n",
    "\n",
    "\n",
    "NAME_REGEX = re.compile(r\"^[A-Za-zÁÉÍÓÚÑáéíóúñ\\s']+$\")\n",
    "PHONE_REGEX = re.compile(r\"^[0-9+\\-\\s()]+$\")\n",
    "EMAIL_REGEX = re.compile(r\"^[A-Za-z0-9._%+-]+@[A-Za-z0-9.-]+\\.[A-Za-z]{2,}$\")\n",
    "CUIL_REGEX = re.compile(r\"^\\d{2}-\\d{8}-\\d$\")  # ajustalo si aceptás otro formato\n",
    "\n",
    "def validate_client_payload(payload: dict[str, str]) -> dict[str, str]:\n",
    "    \"\"\"\n",
    "    Valida que todos los campos del cliente estén presentes y en formato correcto.\n",
    "    \"\"\"\n",
    "    required = [\n",
    "        \"razon_social\",\n",
    "        \"email\",\n",
    "        \"cuil\",\n",
    "        \"nombre_contacto\",\n",
    "        \"apellido_contacto\",\n",
    "        \"telefono\",\n",
    "    ]\n",
    "    missing = [key for key in required if not payload.get(key)]\n",
    "    if missing:\n",
    "        raise ValidationError(f\"Faltan campos obligatorios: {', '.join(missing)}\")\n",
    "\n",
    "    email = payload[\"email\"].strip()\n",
    "    if not EMAIL_REGEX.fullmatch(email):\n",
    "        raise ValidationError(\"email no tiene un formato válido.\")\n",
    "\n",
    "    cuil = payload[\"cuil\"].strip()\n",
    "    if not CUIL_REGEX.fullmatch(cuil):\n",
    "        raise ValidationError(\"cuil no respeta el formato ##-########-#.\")\n",
    "\n",
    "    nombre = payload[\"nombre_contacto\"].strip()\n",
    "    if not NAME_REGEX.fullmatch(nombre):\n",
    "        raise ValidationError(\"nombre_contacto solo admite letras y espacios.\")\n",
    "\n",
    "    apellido = payload[\"apellido_contacto\"].strip()\n",
    "    if not NAME_REGEX.fullmatch(apellido):\n",
    "        raise ValidationError(\"apellido_contacto solo admite letras y espacios.\")\n",
    "\n",
    "    telefono = payload[\"telefono\"].strip()\n",
    "    if not PHONE_REGEX.fullmatch(telefono):\n",
    "        raise ValidationError(\"telefono solo admite dígitos, +, -, () y espacios.\")\n",
    "\n",
    "    return {\n",
    "        \"razon_social\": payload[\"razon_social\"].strip(),\n",
    "        \"email\": email,\n",
    "        \"cuil\": cuil,\n",
    "        \"nombre_contacto\": nombre,\n",
    "        \"apellido_contacto\": apellido,\n",
    "        \"telefono\": telefono,\n",
    "    }"
   ]
  },
  {
   "cell_type": "code",
   "execution_count": 85,
   "id": "c7437df2",
   "metadata": {},
   "outputs": [],
   "source": [
    "input_payload = {\n",
    "  \"razon_social\": \"Panificados SRL\",\n",
    "  \"email\": \"abc@hotmail.com\",\n",
    "  \"cuil\": \"30-23456728-9\",\n",
    "  \"nombre_contacto\": \"Ana\",\n",
    "  \"apellido_contacto\": \"Gimenez\",\n",
    "  \"telefono\": \"1155556677\"\n",
    "}"
   ]
  },
  {
   "cell_type": "code",
   "execution_count": 86,
   "id": "5b523ed0",
   "metadata": {},
   "outputs": [],
   "source": [
    "try:\n",
    "    data = validate_client_payload(input_payload)\n",
    "except ValidationError as exc:\n",
    "    #return {\"statusCode\": 400, \"body\": json.dumps({\"message\": str(exc)})}\n",
    "    print({\"statusCode\": 400, \"body\": json.dumps({\"message\": str(exc)})})"
   ]
  },
  {
   "cell_type": "code",
   "execution_count": 87,
   "id": "056505af",
   "metadata": {},
   "outputs": [],
   "source": [
    "\n",
    "run_command(\n",
    "    f\"\"\"\n",
    "    INSERT INTO {ENV}.cliente\n",
    "        (razon_social, email, cuil, nombre_contacto, apellido_contacto, telefono)\n",
    "    VALUES\n",
    "        ('{data[\"razon_social\"]}', '{data[\"email\"]}', '{data[\"cuil\"]}',\n",
    "         '{data[\"nombre_contacto\"]}', '{data[\"apellido_contacto\"]}', '{data[\"telefono\"]}');\n",
    "    \"\"\"\n",
    ")"
   ]
  }
 ],
 "metadata": {
  "kernelspec": {
   "display_name": "Python 3",
   "language": "python",
   "name": "python3"
  },
  "language_info": {
   "codemirror_mode": {
    "name": "ipython",
    "version": 3
   },
   "file_extension": ".py",
   "mimetype": "text/x-python",
   "name": "python",
   "nbconvert_exporter": "python",
   "pygments_lexer": "ipython3",
   "version": "3.12.0"
  }
 },
 "nbformat": 4,
 "nbformat_minor": 5
}
