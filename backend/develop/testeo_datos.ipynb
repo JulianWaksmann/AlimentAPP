{
 "cells": [
  {
   "cell_type": "code",
   "execution_count": 14,
   "id": "0dd64fa2",
   "metadata": {},
   "outputs": [
    {
     "name": "stdout",
     "output_type": "stream",
     "text": [
      "Requirement already satisfied: pg8000 in c:\\users\\kevin\\appdata\\local\\programs\\python\\python312\\lib\\site-packages (1.31.5)\n",
      "Requirement already satisfied: python-dateutil>=2.8.2 in c:\\users\\kevin\\appdata\\local\\programs\\python\\python312\\lib\\site-packages (from pg8000) (2.9.0.post0)\n",
      "Requirement already satisfied: scramp>=1.4.5 in c:\\users\\kevin\\appdata\\local\\programs\\python\\python312\\lib\\site-packages (from pg8000) (1.4.6)\n",
      "Requirement already satisfied: six>=1.5 in c:\\users\\kevin\\appdata\\local\\programs\\python\\python312\\lib\\site-packages (from python-dateutil>=2.8.2->pg8000) (1.17.0)\n",
      "Requirement already satisfied: asn1crypto>=1.5.1 in c:\\users\\kevin\\appdata\\local\\programs\\python\\python312\\lib\\site-packages (from scramp>=1.4.5->pg8000) (1.5.1)\n",
      "Note: you may need to restart the kernel to use updated packages.\n"
     ]
    }
   ],
   "source": [
    "pip install pg8000"
   ]
  },
  {
   "cell_type": "code",
   "execution_count": 13,
   "id": "e5d80c6d",
   "metadata": {},
   "outputs": [],
   "source": [
    "import os\n",
    "import ssl\n",
    "import pg8000\n",
    "import re"
   ]
  },
  {
   "cell_type": "code",
   "execution_count": null,
   "id": "5626d6d1",
   "metadata": {},
   "outputs": [],
   "source": [
    "# conexion a RDS usando el bundle de Amazon, esto no es necesario desde lambda\n",
    "RDS_CA_PATH = os.getenv(\n",
    "    \"RDS_SSL_CA\",\n",
    "    r\"K:\\documentos\\UNGS\\Proyecto Profesional I\\Tp principal 2-2025\\AlimentAPP\\global-bundle.pem\",\n",
    ")\n",
    "\n",
    "ssl_context = ssl.create_default_context(cafile=RDS_CA_PATH)"
   ]
  },
  {
   "cell_type": "code",
   "execution_count": 15,
   "id": "58011f31",
   "metadata": {},
   "outputs": [],
   "source": [
    "# Variables\n",
    "ENV = 'dev'"
   ]
  },
  {
   "cell_type": "code",
   "execution_count": null,
   "id": "d175f08a",
   "metadata": {},
   "outputs": [],
   "source": [
    "PASSWORD_INPUT = input('ingrese contraseña')\n",
    "def get_connection():\n",
    "    \"\"\"\n",
    "    Abre una conexion pg8000 con SSL.\n",
    "    \"\"\"\n",
    "    return pg8000.connect(\n",
    "        host='db-alimentapp.cm7oyoiiqchb.us-east-1.rds.amazonaws.com',\n",
    "        port=5432,\n",
    "        database='postgres',\n",
    "        user='labo_team',\n",
    "        password=PASSWORD_INPUT,\n",
    "        ssl_context=ssl_context,\n",
    "        timeout=10,\n",
    "    )"
   ]
  },
  {
   "cell_type": "code",
   "execution_count": null,
   "id": "214a638f",
   "metadata": {},
   "outputs": [],
   "source": [
    "def run_query(sql: str):\n",
    "    \"\"\"\n",
    "    Ejecuta un SELECT y devuelve filas como diccionarios.\n",
    "    \"\"\"\n",
    "    conn = get_connection()\n",
    "    try:\n",
    "        cur = conn.cursor()\n",
    "        cur.execute(sql)\n",
    "        rows = cur.fetchall()\n",
    "        if not rows:\n",
    "            return []\n",
    "        columns = [desc[0] for desc in cur.description]\n",
    "        return [dict(zip(columns, row)) for row in rows]\n",
    "    finally:\n",
    "        conn.close()\n",
    "\n",
    "def run_command(sql: str):\n",
    "    \"\"\"\n",
    "    Ejecuta INSERT/UPDATE/DELETE y hace commit.\n",
    "    \"\"\"\n",
    "    conn = get_connection()\n",
    "    try:\n",
    "        cur = conn.cursor()\n",
    "        cur.execute(sql)\n",
    "        conn.commit()\n",
    "    finally:\n",
    "        conn.close()"
   ]
  },
  {
   "cell_type": "markdown",
   "id": "2b89cc85",
   "metadata": {},
   "source": [
    "# get_clients"
   ]
  },
  {
   "cell_type": "code",
   "execution_count": 17,
   "id": "ad1c714a",
   "metadata": {},
   "outputs": [
    {
     "name": "stdout",
     "output_type": "stream",
     "text": [
      "[{'id': 1, 'razon_social': 'Panificados SRL', 'email': 'ventas@panificados.com', 'cuil': '30-12345678-9', 'nombre_contacto': 'Ana', 'apellido_contacto': 'Gimenez', 'telefono': '+54 11 5555-6677', 'activo': True, 'created_at': datetime.datetime(2025, 9, 27, 19, 54, 41, 680028, tzinfo=datetime.timezone.utc)}, {'id': 3, 'razon_social': 'supermercado don carlos', 'email': 'compras@doncarlos.com', 'cuil': '30-98765432-1', 'nombre_contacto': 'pedro', 'apellido_contacto': 'ramirez', 'telefono': '11-9876-5432', 'activo': True, 'created_at': datetime.datetime(2025, 9, 27, 20, 0, 23, 822441, tzinfo=datetime.timezone.utc)}, {'id': 4, 'razon_social': 'restaurante la cocina gourmet', 'email': 'pedidos@cocinagourmet.com', 'cuil': '27-87654321-0', 'nombre_contacto': 'Sofia', 'apellido_contacto': 'Morales', 'telefono': '11-6543-2109', 'activo': True, 'created_at': datetime.datetime(2025, 9, 27, 20, 0, 23, 822441, tzinfo=datetime.timezone.utc)}, {'id': 5, 'razon_social': 'distribuidora zona norte srl', 'email': 'ventas@zonanorte.com', 'cuil': '30-76543210-9', 'nombre_contacto': 'Lucas', 'apellido_contacto': 'Fernandez', 'telefono': '11-3210-9876', 'activo': True, 'created_at': datetime.datetime(2025, 9, 27, 20, 0, 23, 822441, tzinfo=datetime.timezone.utc)}, {'id': 6, 'razon_social': 'Panificados SRL', 'email': 'abc@hotmail.com', 'cuil': '30-23456728-9', 'nombre_contacto': 'Ana', 'apellido_contacto': 'Gimenez', 'telefono': '1155556677', 'activo': True, 'created_at': datetime.datetime(2025, 9, 27, 20, 3, 30, 606491, tzinfo=datetime.timezone.utc)}]\n"
     ]
    }
   ],
   "source": [
    "get_clients_query = f'SELECT * FROM {ENV}.cliente'\n",
    "\n",
    "# Obtengo todos los clientes\n",
    "clients = run_query(get_clients_query)\n",
    "print(clients)"
   ]
  },
  {
   "cell_type": "markdown",
   "id": "980f425e",
   "metadata": {},
   "source": [
    "# Post nuevo cliente"
   ]
  },
  {
   "cell_type": "code",
   "execution_count": null,
   "id": "2ed2d7c6",
   "metadata": {},
   "outputs": [],
   "source": [
    "class ValidationError(Exception):\n",
    "    pass\n",
    "\n",
    "\n",
    "NAME_REGEX = re.compile(r\"^[A-Za-zÁÉÍÓÚÑáéíóúñ\\s']+$\")\n",
    "PHONE_REGEX = re.compile(r\"^[0-9+\\-\\s()]+$\")\n",
    "EMAIL_REGEX = re.compile(r\"^[A-Za-z0-9._%+-]+@[A-Za-z0-9.-]+\\.[A-Za-z]{2,}$\")\n",
    "CUIL_REGEX = re.compile(r\"^\\d{2}-\\d{8}-\\d$\")  # ajustalo si aceptás otro formato\n",
    "\n",
    "def validate_client_payload(payload: dict[str, str]) -> dict[str, str]:\n",
    "    \"\"\"\n",
    "    Valida que todos los campos del cliente estén presentes y en formato correcto.\n",
    "    \"\"\"\n",
    "    required = [\n",
    "        \"razon_social\",\n",
    "        \"email\",\n",
    "        \"cuil\",\n",
    "        \"nombre_contacto\",\n",
    "        \"apellido_contacto\",\n",
    "        \"telefono\",\n",
    "    ]\n",
    "    missing = [key for key in required if not payload.get(key)]\n",
    "    if missing:\n",
    "        raise ValidationError(f\"Faltan campos obligatorios: {', '.join(missing)}\")\n",
    "\n",
    "    email = payload[\"email\"].strip()\n",
    "    if not EMAIL_REGEX.fullmatch(email):\n",
    "        raise ValidationError(\"email no tiene un formato válido.\")\n",
    "\n",
    "    cuil = payload[\"cuil\"].strip()\n",
    "    if not CUIL_REGEX.fullmatch(cuil):\n",
    "        raise ValidationError(\"cuil no respeta el formato ##-########-#.\")\n",
    "\n",
    "    nombre = payload[\"nombre_contacto\"].strip()\n",
    "    if not NAME_REGEX.fullmatch(nombre):\n",
    "        raise ValidationError(\"nombre_contacto solo admite letras y espacios.\")\n",
    "\n",
    "    apellido = payload[\"apellido_contacto\"].strip()\n",
    "    if not NAME_REGEX.fullmatch(apellido):\n",
    "        raise ValidationError(\"apellido_contacto solo admite letras y espacios.\")\n",
    "\n",
    "    telefono = payload[\"telefono\"].strip()\n",
    "    if not PHONE_REGEX.fullmatch(telefono):\n",
    "        raise ValidationError(\"telefono solo admite dígitos, +, -, () y espacios.\")\n",
    "\n",
    "    return {\n",
    "        \"razon_social\": payload[\"razon_social\"].strip(),\n",
    "        \"email\": email,\n",
    "        \"cuil\": cuil,\n",
    "        \"nombre_contacto\": nombre,\n",
    "        \"apellido_contacto\": apellido,\n",
    "        \"telefono\": telefono,\n",
    "    }"
   ]
  },
  {
   "cell_type": "code",
   "execution_count": null,
   "id": "c7437df2",
   "metadata": {},
   "outputs": [],
   "source": [
    "input_payload = {\n",
    "  \"razon_social\": \"Panificados SRL\",\n",
    "  \"email\": \"abc@hotmail.com\",\n",
    "  \"cuil\": \"30-23456728-9\",\n",
    "  \"nombre_contacto\": \"Ana\",\n",
    "  \"apellido_contacto\": \"Gimenez\",\n",
    "  \"telefono\": \"1155556677\"\n",
    "}"
   ]
  },
  {
   "cell_type": "code",
   "execution_count": null,
   "id": "5b523ed0",
   "metadata": {},
   "outputs": [],
   "source": [
    "try:\n",
    "    data = validate_client_payload(input_payload)\n",
    "except ValidationError as exc:\n",
    "    #return {\"statusCode\": 400, \"body\": json.dumps({\"message\": str(exc)})}\n",
    "    print({\"statusCode\": 400, \"body\": json.dumps({\"message\": str(exc)})})"
   ]
  },
  {
   "cell_type": "code",
   "execution_count": null,
   "id": "056505af",
   "metadata": {},
   "outputs": [],
   "source": [
    "\n",
    "run_command(\n",
    "    f\"\"\"\n",
    "    INSERT INTO {ENV}.cliente\n",
    "        (razon_social, email, cuil, nombre_contacto, apellido_contacto, telefono)\n",
    "    VALUES\n",
    "        ('{data[\"razon_social\"]}', '{data[\"email\"]}', '{data[\"cuil\"]}',\n",
    "         '{data[\"nombre_contacto\"]}', '{data[\"apellido_contacto\"]}', '{data[\"telefono\"]}');\n",
    "    \"\"\"\n",
    ")"
   ]
  },
  {
   "cell_type": "markdown",
   "id": "73f3dfc5",
   "metadata": {},
   "source": [
    "# get orden venta"
   ]
  },
  {
   "cell_type": "code",
   "execution_count": null,
   "id": "be70de62",
   "metadata": {},
   "outputs": [],
   "source": [
    "input_payload = {\n",
    "  \"id\": \"3\",\n",
    "}"
   ]
  },
  {
   "cell_type": "code",
   "execution_count": 23,
   "id": "25d1aeeb",
   "metadata": {},
   "outputs": [
    {
     "name": "stdout",
     "output_type": "stream",
     "text": [
      "{'statusCode': 200, 'body': '{\"data\": [{\"idPedido\": 1, \"idVendedor\": 1, \"idCliente\": 1, \"productos\": [{\"idProducto\": 1, \"nombre\": \"Empanadas de Carne x12\", \"cantidad\": 5}, {\"idProducto\": 3, \"nombre\": \"Pizza Muzzarella Grande\", \"cantidad\": 3}, {\"idProducto\": 4, \"nombre\": \"Milanesas de Pollo x6\", \"cantidad\": 4}], \"fechaPedido\": \"2025-09-27T21:56:40.707043+00:00\", \"fechaEntrega\": \"2025-10-01T00:00:00+00:00\", \"estado\": \"confirmada\"}, {\"idPedido\": 2, \"idVendedor\": 1, \"idCliente\": 1, \"productos\": [{\"idProducto\": 2, \"nombre\": \"Hamburguesas Premium x4\", \"cantidad\": 2}, {\"idProducto\": 5, \"nombre\": \"Tarta de Verdura\", \"cantidad\": 1}], \"fechaPedido\": \"2025-09-27T22:08:16.959086+00:00\", \"fechaEntrega\": \"2025-10-01T00:00:00+00:00\", \"estado\": \"confirmada\"}, {\"idPedido\": 3, \"idVendedor\": 1, \"idCliente\": 1, \"productos\": [{\"idProducto\": 1, \"nombre\": \"Empanadas de Carne x12\", \"cantidad\": 10}, {\"idProducto\": 2, \"nombre\": \"Hamburguesas Premium x4\", \"cantidad\": 8}, {\"idProducto\": 3, \"nombre\": \"Pizza Muzzarella Grande\", \"cantidad\": 6}, {\"idProducto\": 4, \"nombre\": \"Milanesas de Pollo x6\", \"cantidad\": 7}], \"fechaPedido\": \"2025-09-27T22:08:41.145922+00:00\", \"fechaEntrega\": \"2025-10-01T00:00:00+00:00\", \"estado\": \"confirmada\"}, {\"idPedido\": 4, \"idVendedor\": 1, \"idCliente\": 1, \"productos\": [], \"fechaPedido\": \"2025-09-27T22:15:31.119853+00:00\", \"fechaEntrega\": \"2025-10-01T00:00:00+00:00\", \"estado\": \"confirmada\"}, {\"idPedido\": 5, \"idVendedor\": 1, \"idCliente\": 1, \"productos\": [{\"idProducto\": 1, \"nombre\": \"Empanadas de Carne x12\", \"cantidad\": 2}, {\"idProducto\": 1, \"nombre\": \"Empanadas de Carne x12\", \"cantidad\": 3}, {\"idProducto\": 2, \"nombre\": \"Hamburguesas Premium x4\", \"cantidad\": 1}, {\"idProducto\": 4, \"nombre\": \"Milanesas de Pollo x6\", \"cantidad\": 1}], \"fechaPedido\": \"2025-09-28T03:20:51.180681+00:00\", \"fechaEntrega\": \"2025-10-01T00:00:00+00:00\", \"estado\": \"lista\"}, {\"idPedido\": 16, \"idVendedor\": 3, \"idCliente\": 1, \"productos\": [], \"fechaPedido\": \"2025-09-20T13:30:00+00:00\", \"fechaEntrega\": \"2025-09-23T11:00:00+00:00\", \"estado\": \"entregada\"}, {\"idPedido\": 17, \"idVendedor\": 3, \"idCliente\": 4, \"productos\": [], \"fechaPedido\": \"2025-09-25T17:15:00+00:00\", \"fechaEntrega\": \"2025-09-28T21:00:00+00:00\", \"estado\": \"en_produccion\"}, {\"idPedido\": 18, \"idVendedor\": 3, \"idCliente\": 3, \"productos\": [], \"fechaPedido\": \"2025-09-27T12:00:00+00:00\", \"fechaEntrega\": \"2025-09-30T15:00:00+00:00\", \"estado\": \"confirmada\"}, {\"idPedido\": 19, \"idVendedor\": 3, \"idCliente\": 1, \"productos\": [], \"fechaPedido\": \"2025-09-28T14:20:00+00:00\", \"fechaEntrega\": \"2025-10-01T11:00:00+00:00\", \"estado\": \"pendiente\"}, {\"idPedido\": 20, \"idVendedor\": 3, \"idCliente\": 1, \"productos\": [], \"fechaPedido\": \"2025-09-26T19:45:00+00:00\", \"fechaEntrega\": \"2025-09-29T20:00:00+00:00\", \"estado\": \"entregada\"}, {\"idPedido\": 21, \"idVendedor\": 1, \"idCliente\": 1, \"productos\": [{\"idProducto\": 1, \"nombre\": \"Empanadas de Carne x12\", \"cantidad\": 3}, {\"idProducto\": 2, \"nombre\": \"Hamburguesas Premium x4\", \"cantidad\": 1}], \"fechaPedido\": \"2025-09-28T16:10:57.782831+00:00\", \"fechaEntrega\": \"2025-10-01T00:00:00+00:00\", \"estado\": \"pendiente\"}, {\"idPedido\": 22, \"idVendedor\": 1, \"idCliente\": 1, \"productos\": [{\"idProducto\": 1, \"nombre\": \"Empanadas de Carne x12\", \"cantidad\": 3}, {\"idProducto\": 2, \"nombre\": \"Hamburguesas Premium x4\", \"cantidad\": 1}], \"fechaPedido\": \"2025-09-28T16:13:25.277752+00:00\", \"fechaEntrega\": \"2025-10-01T00:00:00+00:00\", \"estado\": \"pendiente\"}, {\"idPedido\": 23, \"idVendedor\": 1, \"idCliente\": 1, \"productos\": [{\"idProducto\": 1, \"nombre\": \"Empanadas de Carne x12\", \"cantidad\": 3}, {\"idProducto\": 2, \"nombre\": \"Hamburguesas Premium x4\", \"cantidad\": 1}], \"fechaPedido\": \"2025-09-28T16:32:18.318248+00:00\", \"fechaEntrega\": \"2025-10-01T00:00:00+00:00\", \"estado\": \"pendiente\"}, {\"idPedido\": 24, \"idVendedor\": 2, \"idCliente\": 1, \"productos\": [], \"fechaPedido\": \"2025-09-28T19:39:44.851050+00:00\", \"fechaEntrega\": \"2025-10-01T00:00:00+00:00\", \"estado\": \"pendiente\"}, {\"idPedido\": 25, \"idVendedor\": 1, \"idCliente\": 1, \"productos\": [{\"idProducto\": 1, \"nombre\": \"Empanadas de Carne x12\", \"cantidad\": 2}], \"fechaPedido\": \"2025-09-28T23:07:38.904140+00:00\", \"fechaEntrega\": \"2025-11-23T00:00:00+00:00\", \"estado\": \"pendiente\"}, {\"idPedido\": 26, \"idVendedor\": 1, \"idCliente\": 4, \"productos\": [{\"idProducto\": 2, \"nombre\": \"Hamburguesas Premium x4\", \"cantidad\": 2}], \"fechaPedido\": \"2025-09-28T23:38:10.725857+00:00\", \"fechaEntrega\": \"2025-10-01T00:00:00+00:00\", \"estado\": \"pendiente\"}, {\"idPedido\": 27, \"idVendedor\": 1, \"idCliente\": 3, \"productos\": [{\"idProducto\": 3, \"nombre\": \"Pizza Muzzarella Grande\", \"cantidad\": 3}, {\"idProducto\": 4, \"nombre\": \"Milanesas de Pollo x6\", \"cantidad\": 2}], \"fechaPedido\": \"2025-09-28T23:45:38.967930+00:00\", \"fechaEntrega\": \"2025-10-12T00:00:00+00:00\", \"estado\": \"pendiente\"}]}'}\n"
     ]
    }
   ],
   "source": [
    "import json\n",
    "def get_orden_venta(event, context):\n",
    "    #query = f\"select * from {ENV}.orden_venta limit 20;\"\n",
    "    query_pedidos = f\"\"\"\n",
    "        SELECT \n",
    "            id as \"idPedido\",\n",
    "            id_empleado as \"idVendedor\", \n",
    "            id_cliente as \"idCliente\",\n",
    "            fecha_pedido as \"fechaPedido\",\n",
    "            fecha_entrega_solicitada as \"fechaEntrega\",\n",
    "            estado\n",
    "        FROM {ENV}.orden_venta\n",
    "        ORDER BY id\n",
    "        \"\"\"\n",
    "        \n",
    "    pedidos = run_query(query_pedidos)\n",
    "        \n",
    "    # Luego para cada pedido, obtenemos sus productos\n",
    "    pedidos_con_productos = []\n",
    "    for pedido in pedidos:\n",
    "        query_productos = f\"\"\"\n",
    "        SELECT \n",
    "            op.id_producto as \"idProducto\",\n",
    "            p.nombre,\n",
    "            op.cantidad\n",
    "            FROM {ENV}.orden_produccion op\n",
    "            LEFT JOIN {ENV}.producto p ON op.id_producto = p.id\n",
    "            WHERE op.id_orden_venta = {pedido['idPedido']}\n",
    "            \"\"\"\n",
    "            \n",
    "        productos = run_query(query_productos)\n",
    "            \n",
    "            # Construimos el objeto del pedido con productos\n",
    "        pedido_completo = {\n",
    "                \"idPedido\": pedido['idPedido'],\n",
    "                \"idVendedor\": pedido['idVendedor'],\n",
    "                \"idCliente\": pedido['idCliente'],\n",
    "                \"productos\": productos,\n",
    "                \"fechaPedido\": pedido['fechaPedido'].isoformat() if pedido['fechaPedido'] else None,\n",
    "                \"fechaEntrega\": pedido['fechaEntrega'].isoformat() if pedido['fechaEntrega'] else None,\n",
    "                \"estado\": pedido['estado']\n",
    "            }\n",
    "            \n",
    "        pedidos_con_productos.append(pedido_completo)\n",
    "    return {\n",
    "        \"statusCode\": 200,\n",
    "        \"body\": json.dumps({\"data\": pedidos_con_productos}, default = str)\n",
    "    }\n",
    "\n",
    "print(get_orden_venta(None, None))"
   ]
  },
  {
   "cell_type": "markdown",
   "id": "b7c5cb06",
   "metadata": {},
   "source": [
    "# get orden venta by id vendedor"
   ]
  },
  {
   "cell_type": "code",
   "execution_count": null,
   "id": "4363156a",
   "metadata": {},
   "outputs": [],
   "source": [
    "input_payload = {\n",
    "  \"id\": \"4\"\n",
    "}\n",
    "def get_orden_venta_by_id_vendedor(event, context):\n",
    "    # Con API Gateway el body viene encapsulado dentro del event(un JSON)\n",
    "    # input_payload = json.loads(event[\"body\"])\n",
    "    input_payload = event\n",
    "    \n",
    "    try:\n",
    "        get_id_vendedor = int(input_payload[\"id\"])\n",
    "    except (ValueError, KeyError) as exc:\n",
    "        return{\n",
    "            \"statusCode\": 400,\n",
    "            \"body\": json.dumps({\"message\": f\"ID inválido: {exc}\"}, default = str)\n",
    "        }\n",
    "\n",
    "    query = f\"select * from {ENV}.orden_venta where id_empleado = {get_id_vendedor};\"\n",
    "    pedido = run_query(query)\n",
    "    return {\n",
    "        \"statusCode\": 200,\n",
    "        \"body\": json.dumps({\"data\": pedido}, default = str)\n",
    "    }\n",
    "\n",
    "print(get_orden_venta_by_id_vendedor(input_payload, None))"
   ]
  },
  {
   "cell_type": "markdown",
   "id": "150b90f4",
   "metadata": {},
   "source": [
    "# get orden venta by id cliente"
   ]
  },
  {
   "cell_type": "code",
   "execution_count": null,
   "id": "c6d9a0e2",
   "metadata": {},
   "outputs": [],
   "source": [
    "input_payload = {\n",
    "  \"id\": \"\"\n",
    "}\n",
    "def get_orden_venta_by_id_cliente(event, context):\n",
    "    # Con API Gateway el body viene encapsulado dentro del event(un JSON)\n",
    "    # input_payload = json.loads(event[\"body\"])\n",
    "    input_payload = event\n",
    "    \n",
    "    try:\n",
    "        get_id_cliente = int(input_payload[\"id\"])\n",
    "    except (ValueError, KeyError) as exc:\n",
    "        return{\n",
    "            \"statusCode\": 400,\n",
    "            \"body\": json.dumps({\"message\": f\"ID inválido: {exc}\"}, default = str)\n",
    "        }\n",
    "\n",
    "    query = f\"select * from {ENV}.orden_venta where id_cliente = {get_id_cliente};\"\n",
    "    pedido = run_query(query)\n",
    "    return {\n",
    "        \"statusCode\": 200,\n",
    "        \"body\": json.dumps({\"data\": pedido}, default = str)\n",
    "    }\n",
    "\n",
    "print(get_orden_venta_by_id_cliente(input_payload, None))"
   ]
  },
  {
   "cell_type": "markdown",
   "id": "f2ffaeae",
   "metadata": {},
   "source": [
    "# get orden venta by id pedido"
   ]
  },
  {
   "cell_type": "code",
   "execution_count": null,
   "id": "b9f4d4ef",
   "metadata": {},
   "outputs": [],
   "source": [
    "input_payload = {\n",
    "  \"id\": \"\"\n",
    "}\n",
    "\n",
    "def get_orden_venta_by_id_pedido(event, context):\n",
    "    # Con API Gateway el body viene encapsulado dentro del event(un JSON)\n",
    "    # input_payload = json.loads(event[\"body\"])\n",
    "    input_payload = event\n",
    "    \n",
    "    try:\n",
    "        get_id_pedido = int(input_payload[\"id\"])\n",
    "    except (ValueError, KeyError) as exc:\n",
    "        return{\n",
    "            \"statusCode\": 400,\n",
    "            \"body\": json.dumps({\"message\": f\"ID inválido: {exc}\"}, default = str)\n",
    "        }\n",
    "\n",
    "    query = f\"select * from {ENV}.orden_venta where id = {get_id_pedido};\"\n",
    "    pedido = run_query(query)\n",
    "    return {\n",
    "        \"statusCode\": 200,\n",
    "        \"body\": json.dumps({\"data\": pedido}, default = str)\n",
    "    }\n",
    "\n",
    "print(get_orden_venta_by_id_pedido(input_payload, None))"
   ]
  },
  {
   "cell_type": "code",
   "execution_count": null,
   "id": "8e2f25b4",
   "metadata": {},
   "outputs": [],
   "source": []
  },
  {
   "cell_type": "markdown",
   "id": "d591dbc1",
   "metadata": {},
   "source": [
    "# get orden venta by estado"
   ]
  },
  {
   "cell_type": "code",
   "execution_count": null,
   "id": "9d5c8ea7",
   "metadata": {},
   "outputs": [],
   "source": [
    "input_payload2 = {\n",
    "  \"estado\": \"pendiente\",\n",
    "}\n",
    "\n",
    "def get_orden_venta_by_estado(event, context):\n",
    "    input_payload = event\n",
    "    \n",
    "    estados_orden_venta = [\n",
    "        'pendiente',\n",
    "        'confirmada',\n",
    "        'cancelada',\n",
    "        'en_produccion',\n",
    "        'lista',\n",
    "        'entregada'\n",
    "    ]\n",
    "    \n",
    "    get_estado = input_payload.get(\"estado\")\n",
    "    if not get_estado or get_estado not in estados_orden_venta:\n",
    "        return {\n",
    "            \"statusCode\": 400,\n",
    "            \"body\": json.dumps({\"message\": f\"El estado '{get_estado}' NO existe\"}, default=str)\n",
    "        }\n",
    "    query = f\"select * from {ENV}.orden_venta where estado = '{get_estado}';\"\n",
    "    pedido = run_query(query)\n",
    "    return {\n",
    "        \"statusCode\": 200,\n",
    "        \"body\": json.dumps({\"data\": pedido}, default = str)\n",
    "    }\n",
    "        \n",
    "print(get_orden_venta_by_estado(input_payload2, None))\n"
   ]
  },
  {
   "cell_type": "markdown",
   "id": "56095877",
   "metadata": {},
   "source": [
    "# get productos (select id, nombre from producto)"
   ]
  },
  {
   "cell_type": "code",
   "execution_count": null,
   "id": "864bec88",
   "metadata": {},
   "outputs": [],
   "source": [
    "get_productos_query = f'SELECT id,nombre FROM {ENV}.producto'\n",
    "\n",
    "# Obtengo todos los productos\n",
    "productos = run_query(get_productos_query)\n",
    "print(productos)"
   ]
  },
  {
   "cell_type": "markdown",
   "id": "85e398ba",
   "metadata": {},
   "source": [
    "# get ordenes_produccion limit 20"
   ]
  },
  {
   "cell_type": "code",
   "execution_count": null,
   "id": "a7f7f659",
   "metadata": {},
   "outputs": [],
   "source": [
    "get_ordenes_produccion_limit20_query = f'SELECT * FROM {ENV}.orden_produccion ORDER BY fecha_creacion DESC LIMIT 20'\n",
    "\n",
    "# Obtengo todos las ultimas 20 ordenes de produccion\n",
    "ordenes_produccion = run_query(get_ordenes_produccion_limit20_query)\n",
    "print(ordenes_produccion)"
   ]
  },
  {
   "cell_type": "markdown",
   "id": "4013262d",
   "metadata": {},
   "source": [
    "# post cambiar estado orden produccion"
   ]
  },
  {
   "cell_type": "code",
   "execution_count": null,
   "id": "9a99e43a",
   "metadata": {},
   "outputs": [],
   "source": []
  },
  {
   "cell_type": "markdown",
   "id": "03bc8c21",
   "metadata": {},
   "source": [
    "# post datos login empleado"
   ]
  },
  {
   "cell_type": "code",
   "execution_count": null,
   "id": "bf99a808",
   "metadata": {},
   "outputs": [],
   "source": [
    "ejemplo_input_payload_correcto = {\n",
    "    \"email\": \"maria.rodriguez@frozen.com\",\n",
    "    \"password\": \"contramaria\", \n",
    "    \"rol\" : \"supervisor\"\n",
    "}\n",
    "ejemplo_input_payload_incorrecto = {\n",
    "    \"email\": \"raul@gmail.com\",\n",
    "    \"password\": \"12345\", \n",
    "    \"rol\" : \"supervisor\"\n",
    "}\n",
    "ejemplo_incompleto = {\n",
    "    \"email\": \"raul@gmail.com\",\n",
    "    \"password\": \"12345\"\n",
    "}\n",
    "ejemplo_vacio = {}\n",
    "\n",
    "\n",
    "def post_login_empleado(event, context):\n",
    "    \n",
    "    input_payload = event\n",
    "    \n",
    "    required = [\n",
    "        \"email\",\n",
    "        \"password\",\n",
    "        \"rol\"\n",
    "    ]\n",
    "    missing = [key for key in required if not input_payload.get(key)]\n",
    "    if missing:\n",
    "        return {\n",
    "            \"statusCode\": 400,\n",
    "            \"body\": json.dumps({\"message\": \"Faltan campos obligatorios\"})\n",
    "        }  \n",
    "    \n",
    "    email = input_payload.get(\"email\")\n",
    "    password = input_payload.get(\"password\")\n",
    "    rol = input_payload.get(\"rol\")\n",
    "    \n",
    "    query_rol = f\"SELECT id, nombre FROM {ENV}.rol where nombre = 'supervisor'\"\n",
    "    rol_result = run_query(query_rol)\n",
    "    if not rol_result:\n",
    "        return {\n",
    "            \"statusCode\": 400,\n",
    "            \"body\": json.dumps({\"message\": f\"Rol '{rol}' no encontrado\"})\n",
    "        } \n",
    "    id_rol = rol_result[0][\"id\"]\n",
    "       \n",
    "    query_empleado = f\"SELECT id FROM {ENV}.empleado WHERE email = '{email}' AND id_rol = {id_rol}\"\n",
    "    empleado_result = run_query(query_empleado)\n",
    "    if not empleado_result:\n",
    "        query_email = f\"SELECT 1 FROM {ENV}.empleado WHERE email = '{email}'\"\n",
    "        if not run_query(query_email):\n",
    "            return {\n",
    "                \"statusCode\": 400,\n",
    "                \"body\": json.dumps({\"message\": \"Email no encontrado\"})\n",
    "            }\n",
    "        else:\n",
    "            return {\n",
    "                \"statusCode\": 400,\n",
    "                \"body\": json.dumps({\"message\": \"El email no corresponde con el rol indicado\"})\n",
    "            }\n",
    "    id_empleado = empleado_result[0][\"id\"]\n",
    "    \n",
    "    query_password = f\"SELECT 1 FROM {ENV}.sesion WHERE id_empleado = {id_empleado} AND password = '{password}'\"\n",
    "    if run_query(query_password):\n",
    "        return {\n",
    "            \"statusCode\": 200,\n",
    "            \"body\": json.dumps({\"message\": \"Inicio de sesion verificado\"})\n",
    "        }\n",
    "    return {\n",
    "        \"statusCode\": 400,\n",
    "        \"body\": json.dumps({\"message\": \"Contraseña incorrecta\"})\n",
    "    }\n",
    "    \n",
    "print(post_login_empleado(ejemplo_input_payload_correcto, None))"
   ]
  },
  {
   "cell_type": "markdown",
   "id": "cfd5d1e8",
   "metadata": {},
   "source": [
    "# post pedido ventas"
   ]
  },
  {
   "cell_type": "code",
   "execution_count": null,
   "id": "5e531585",
   "metadata": {},
   "outputs": [],
   "source": []
  },
  {
   "cell_type": "markdown",
   "id": "e3f9eb5b",
   "metadata": {},
   "source": [
    "# post cambiar estado pedido venta"
   ]
  },
  {
   "cell_type": "code",
   "execution_count": null,
   "id": "ee004343",
   "metadata": {},
   "outputs": [],
   "source": []
  }
 ],
 "metadata": {
  "kernelspec": {
   "display_name": "Python 3",
   "language": "python",
   "name": "python3"
  },
  "language_info": {
   "codemirror_mode": {
    "name": "ipython",
    "version": 3
   },
   "file_extension": ".py",
   "mimetype": "text/x-python",
   "name": "python",
   "nbconvert_exporter": "python",
   "pygments_lexer": "ipython3",
   "version": "3.12.9"
  }
 },
 "nbformat": 4,
 "nbformat_minor": 5
}
