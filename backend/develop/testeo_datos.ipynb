{
 "cells": [
  {
   "cell_type": "code",
   "execution_count": 4,
   "id": "0dd64fa2",
   "metadata": {},
   "outputs": [
    {
     "name": "stdout",
     "output_type": "stream",
     "text": [
      "Collecting pg8000\n",
      "  Obtaining dependency information for pg8000 from https://files.pythonhosted.org/packages/45/07/5fd183858dff4d24840f07fc845f213cd371a19958558607ba22035dadd7/pg8000-1.31.5-py3-none-any.whl.metadata\n",
      "  Downloading pg8000-1.31.5-py3-none-any.whl.metadata (88 kB)\n",
      "     ---------------------------------------- 0.0/88.8 kB ? eta -:--:--\n",
      "     -------- ----------------------------- 20.5/88.8 kB 320.0 kB/s eta 0:00:01\n",
      "     ----------------- -------------------- 41.0/88.8 kB 487.6 kB/s eta 0:00:01\n",
      "     ----------------------------------- -- 81.9/88.8 kB 651.6 kB/s eta 0:00:01\n",
      "     -------------------------------------- 88.8/88.8 kB 714.1 kB/s eta 0:00:00\n",
      "Requirement already satisfied: python-dateutil>=2.8.2 in c:\\users\\julian waksmann\\appdata\\local\\programs\\python\\python312\\lib\\site-packages (from pg8000) (2.9.0.post0)\n",
      "Collecting scramp>=1.4.5 (from pg8000)\n",
      "  Obtaining dependency information for scramp>=1.4.5 from https://files.pythonhosted.org/packages/69/bf/54b5d40bea1c1805175ead2d496c267f05eec87561687dd73ab76869d8d9/scramp-1.4.6-py3-none-any.whl.metadata\n",
      "  Downloading scramp-1.4.6-py3-none-any.whl.metadata (19 kB)\n",
      "Requirement already satisfied: six>=1.5 in c:\\users\\julian waksmann\\appdata\\local\\programs\\python\\python312\\lib\\site-packages (from python-dateutil>=2.8.2->pg8000) (1.17.0)\n",
      "Collecting asn1crypto>=1.5.1 (from scramp>=1.4.5->pg8000)\n",
      "  Obtaining dependency information for asn1crypto>=1.5.1 from https://files.pythonhosted.org/packages/c9/7f/09065fd9e27da0eda08b4d6897f1c13535066174cc023af248fc2a8d5e5a/asn1crypto-1.5.1-py2.py3-none-any.whl.metadata\n",
      "  Downloading asn1crypto-1.5.1-py2.py3-none-any.whl.metadata (13 kB)\n",
      "Downloading pg8000-1.31.5-py3-none-any.whl (57 kB)\n",
      "   ---------------------------------------- 0.0/57.8 kB ? eta -:--:--\n",
      "   ---------------------------------------- 57.8/57.8 kB 3.2 MB/s eta 0:00:00\n",
      "Downloading scramp-1.4.6-py3-none-any.whl (12 kB)\n",
      "Downloading asn1crypto-1.5.1-py2.py3-none-any.whl (105 kB)\n",
      "   ---------------------------------------- 0.0/105.0 kB ? eta -:--:--\n",
      "   ---------------------------------------- 105.0/105.0 kB 3.0 MB/s eta 0:00:00\n",
      "Installing collected packages: asn1crypto, scramp, pg8000\n",
      "Successfully installed asn1crypto-1.5.1 pg8000-1.31.5 scramp-1.4.6\n",
      "Note: you may need to restart the kernel to use updated packages.\n"
     ]
    },
    {
     "name": "stderr",
     "output_type": "stream",
     "text": [
      "\n",
      "[notice] A new release of pip is available: 23.2.1 -> 25.2\n",
      "[notice] To update, run: python.exe -m pip install --upgrade pip\n"
     ]
    }
   ],
   "source": [
    "pip install pg8000"
   ]
  },
  {
   "cell_type": "code",
   "execution_count": 33,
   "id": "e5d80c6d",
   "metadata": {},
   "outputs": [],
   "source": [
    "import os\n",
    "import ssl\n",
    "import pg8000\n",
    "import re"
   ]
  },
  {
   "cell_type": "code",
   "execution_count": 16,
   "id": "5626d6d1",
   "metadata": {},
   "outputs": [],
   "source": [
    "# conexion a RDS usando el bundle de Amazon, esto no es necesario desde lambda\n",
    "RDS_CA_PATH = os.getenv(\n",
    "    \"RDS_SSL_CA\",\n",
    "    r\"C:\\Users\\Julian Waksmann\\Documents\\03 UNIVERSIDAD\\AlimentAPP\\global-bundle.pem\",\n",
    ")\n",
    "\n",
    "ssl_context = ssl.create_default_context(cafile=RDS_CA_PATH)"
   ]
  },
  {
   "cell_type": "code",
   "execution_count": 29,
   "id": "58011f31",
   "metadata": {},
   "outputs": [],
   "source": [
    "# Variables\n",
    "ENV = 'dev'"
   ]
  },
  {
   "cell_type": "code",
   "execution_count": 17,
   "id": "d175f08a",
   "metadata": {},
   "outputs": [],
   "source": [
    "def get_connection():\n",
    "    \"\"\"\n",
    "    Abre una conexion pg8000 con SSL.\n",
    "    \"\"\"\n",
    "    return pg8000.connect(\n",
    "        host='db-alimentapp.cm7oyoiiqchb.us-east-1.rds.amazonaws.com',\n",
    "        port=5432,\n",
    "        database='postgres',\n",
    "        user='labo_team',\n",
    "        password='Aprobemos123!',\n",
    "        ssl_context=ssl_context,\n",
    "        timeout=10,\n",
    "    )"
   ]
  },
  {
   "cell_type": "code",
   "execution_count": null,
   "id": "214a638f",
   "metadata": {},
   "outputs": [],
   "source": [
    "def run_query(sql: str):\n",
    "    \"\"\"\n",
    "    Ejecuta un SELECT y devuelve filas como diccionarios.\n",
    "    \"\"\"\n",
    "    conn = get_connection()\n",
    "    try:\n",
    "        cur = conn.cursor()\n",
    "        cur.execute(sql)\n",
    "        rows = cur.fetchall()\n",
    "        if not rows:\n",
    "            return []\n",
    "        columns = [desc[0] for desc in cur.description]\n",
    "        return [dict(zip(columns, row)) for row in rows]\n",
    "    finally:\n",
    "        conn.close()\n",
    "\n",
    "def run_command(sql: str):\n",
    "    \"\"\"\n",
    "    Ejecuta INSERT/UPDATE/DELETE y hace commit.\n",
    "    \"\"\"\n",
    "    conn = get_connection()\n",
    "    try:\n",
    "        cur = conn.cursor()\n",
    "        cur.execute(sql)\n",
    "        conn.commit()\n",
    "    finally:\n",
    "        conn.close()"
   ]
  },
  {
   "cell_type": "markdown",
   "id": "2b89cc85",
   "metadata": {},
   "source": [
    "# get_clients"
   ]
  },
  {
   "cell_type": "code",
   "execution_count": 30,
   "id": "ad1c714a",
   "metadata": {},
   "outputs": [],
   "source": [
    "get_clients_query = f'SELECT * FROM {ENV}.cliente'\n",
    "\n",
    "# Obtengo todos los clientes\n",
    "clients = run_query(get_clients_query)"
   ]
  },
  {
   "cell_type": "markdown",
   "id": "980f425e",
   "metadata": {},
   "source": [
    "# Post nuevo cliente"
   ]
  },
  {
   "cell_type": "code",
   "execution_count": 40,
   "id": "2ed2d7c6",
   "metadata": {},
   "outputs": [],
   "source": [
    "class ValidationError(Exception):\n",
    "    pass\n",
    "\n",
    "\n",
    "NAME_REGEX = re.compile(r\"^[A-Za-zÁÉÍÓÚÑáéíóúñ\\s']+$\")\n",
    "PHONE_REGEX = re.compile(r\"^[0-9+\\-\\s()]+$\")\n",
    "EMAIL_REGEX = re.compile(r\"^[A-Za-z0-9._%+-]+@[A-Za-z0-9.-]+\\.[A-Za-z]{2,}$\")\n",
    "CUIL_REGEX = re.compile(r\"^\\d{2}-\\d{8}-\\d$\")  # ajustalo si aceptás otro formato\n",
    "\n",
    "def validate_client_payload(payload: dict[str, str]) -> dict[str, str]:\n",
    "    \"\"\"\n",
    "    Valida que todos los campos del cliente estén presentes y en formato correcto.\n",
    "    \"\"\"\n",
    "    required = [\n",
    "        \"razon_social\",\n",
    "        \"email\",\n",
    "        \"cuil\",\n",
    "        \"nombre_contacto\",\n",
    "        \"apellido_contacto\",\n",
    "        \"telefono\",\n",
    "    ]\n",
    "    missing = [key for key in required if not payload.get(key)]\n",
    "    if missing:\n",
    "        raise ValidationError(f\"Faltan campos obligatorios: {', '.join(missing)}\")\n",
    "\n",
    "    email = payload[\"email\"].strip()\n",
    "    if not EMAIL_REGEX.fullmatch(email):\n",
    "        raise ValidationError(\"email no tiene un formato válido.\")\n",
    "\n",
    "    cuil = payload[\"cuil\"].strip()\n",
    "    if not CUIL_REGEX.fullmatch(cuil):\n",
    "        raise ValidationError(\"cuil no respeta el formato ##-########-#.\")\n",
    "\n",
    "    nombre = payload[\"nombre_contacto\"].strip()\n",
    "    if not NAME_REGEX.fullmatch(nombre):\n",
    "        raise ValidationError(\"nombre_contacto solo admite letras y espacios.\")\n",
    "\n",
    "    apellido = payload[\"apellido_contacto\"].strip()\n",
    "    if not NAME_REGEX.fullmatch(apellido):\n",
    "        raise ValidationError(\"apellido_contacto solo admite letras y espacios.\")\n",
    "\n",
    "    telefono = payload[\"telefono\"].strip()\n",
    "    if not PHONE_REGEX.fullmatch(telefono):\n",
    "        raise ValidationError(\"telefono solo admite dígitos, +, -, () y espacios.\")\n",
    "\n",
    "    return {\n",
    "        \"razon_social\": payload[\"razon_social\"].strip(),\n",
    "        \"email\": email,\n",
    "        \"cuil\": cuil,\n",
    "        \"nombre_contacto\": nombre,\n",
    "        \"apellido_contacto\": apellido,\n",
    "        \"telefono\": telefono,\n",
    "    }"
   ]
  },
  {
   "cell_type": "code",
   "execution_count": 85,
   "id": "c7437df2",
   "metadata": {},
   "outputs": [],
   "source": [
    "input_payload = {\n",
    "  \"razon_social\": \"Panificados SRL\",\n",
    "  \"email\": \"abc@hotmail.com\",\n",
    "  \"cuil\": \"30-23456728-9\",\n",
    "  \"nombre_contacto\": \"Ana\",\n",
    "  \"apellido_contacto\": \"Gimenez\",\n",
    "  \"telefono\": \"1155556677\"\n",
    "}"
   ]
  },
  {
   "cell_type": "code",
   "execution_count": 86,
   "id": "5b523ed0",
   "metadata": {},
   "outputs": [],
   "source": [
    "try:\n",
    "    data = validate_client_payload(input_payload)\n",
    "except ValidationError as exc:\n",
    "    #return {\"statusCode\": 400, \"body\": json.dumps({\"message\": str(exc)})}\n",
    "    print({\"statusCode\": 400, \"body\": json.dumps({\"message\": str(exc)})})"
   ]
  },
  {
   "cell_type": "code",
   "execution_count": 87,
   "id": "056505af",
   "metadata": {},
   "outputs": [],
   "source": [
    "\n",
    "run_command(\n",
    "    f\"\"\"\n",
    "    INSERT INTO {ENV}.cliente\n",
    "        (razon_social, email, cuil, nombre_contacto, apellido_contacto, telefono)\n",
    "    VALUES\n",
    "        ('{data[\"razon_social\"]}', '{data[\"email\"]}', '{data[\"cuil\"]}',\n",
    "         '{data[\"nombre_contacto\"]}', '{data[\"apellido_contacto\"]}', '{data[\"telefono\"]}');\n",
    "    \"\"\"\n",
    ")"
   ]
  }
 ],
 "metadata": {
  "kernelspec": {
   "display_name": "Python 3",
   "language": "python",
   "name": "python3"
  },
  "language_info": {
   "codemirror_mode": {
    "name": "ipython",
    "version": 3
   },
   "file_extension": ".py",
   "mimetype": "text/x-python",
   "name": "python",
   "nbconvert_exporter": "python",
   "pygments_lexer": "ipython3",
   "version": "3.12.0"
  }
 },
 "nbformat": 4,
 "nbformat_minor": 5
}
