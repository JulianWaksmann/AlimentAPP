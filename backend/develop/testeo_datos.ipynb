{
 "cells": [
  {
   "cell_type": "code",
   "execution_count": null,
   "id": "0dd64fa2",
   "metadata": {},
   "outputs": [],
   "source": [
    "pip install pg8000"
   ]
  },
  {
   "cell_type": "code",
   "execution_count": null,
   "id": "e5d80c6d",
   "metadata": {},
   "outputs": [],
   "source": [
    "import os\n",
    "import ssl\n",
    "import pg8000\n",
    "import re"
   ]
  },
  {
   "cell_type": "code",
   "execution_count": null,
   "id": "5626d6d1",
   "metadata": {},
   "outputs": [],
   "source": [
    "# conexion a RDS usando el bundle de Amazon, esto no es necesario desde lambda\n",
    "RDS_CA_PATH = os.getenv(\n",
    "    \"RDS_SSL_CA\",\n",
    "    r\"K:\\documentos\\UNGS\\Proyecto Profesional I\\Tp principal 2-2025\\AlimentAPP\\global-bundle.pem\",\n",
    ")\n",
    "\n",
    "ssl_context = ssl.create_default_context(cafile=RDS_CA_PATH)"
   ]
  },
  {
   "cell_type": "code",
   "execution_count": null,
   "id": "58011f31",
   "metadata": {},
   "outputs": [],
   "source": [
    "# Variables\n",
    "ENV = 'dev'"
   ]
  },
  {
   "cell_type": "code",
   "execution_count": null,
   "id": "d175f08a",
   "metadata": {},
   "outputs": [],
   "source": [
    "PASSWORD_INPUT = input('ingrese contraseña')\n",
    "def get_connection():\n",
    "    \"\"\"\n",
    "    Abre una conexion pg8000 con SSL.\n",
    "    \"\"\"\n",
    "    return pg8000.connect(\n",
    "        host='db-alimentapp.cm7oyoiiqchb.us-east-1.rds.amazonaws.com',\n",
    "        port=5432,\n",
    "        database='postgres',\n",
    "        user='labo_team',\n",
    "        password=PASSWORD_INPUT,\n",
    "        ssl_context=ssl_context,\n",
    "        timeout=10,\n",
    "    )"
   ]
  },
  {
   "cell_type": "code",
   "execution_count": null,
   "id": "214a638f",
   "metadata": {},
   "outputs": [],
   "source": [
    "def run_query(sql: str):\n",
    "    \"\"\"\n",
    "    Ejecuta un SELECT y devuelve filas como diccionarios.\n",
    "    \"\"\"\n",
    "    conn = get_connection()\n",
    "    try:\n",
    "        cur = conn.cursor()\n",
    "        cur.execute(sql)\n",
    "        rows = cur.fetchall()\n",
    "        if not rows:\n",
    "            return []\n",
    "        columns = [desc[0] for desc in cur.description]\n",
    "        return [dict(zip(columns, row)) for row in rows]\n",
    "    finally:\n",
    "        conn.close()\n",
    "\n",
    "def run_command(sql: str):\n",
    "    \"\"\"\n",
    "    Ejecuta INSERT/UPDATE/DELETE y hace commit.\n",
    "    \"\"\"\n",
    "    conn = get_connection()\n",
    "    try:\n",
    "        cur = conn.cursor()\n",
    "        cur.execute(sql)\n",
    "        conn.commit()\n",
    "    finally:\n",
    "        conn.close()"
   ]
  },
  {
   "cell_type": "markdown",
   "id": "2b89cc85",
   "metadata": {},
   "source": [
    "# get_clients"
   ]
  },
  {
   "cell_type": "code",
   "execution_count": null,
   "id": "ad1c714a",
   "metadata": {},
   "outputs": [],
   "source": [
    "get_clients_query = f'SELECT * FROM {ENV}.cliente'\n",
    "\n",
    "# Obtengo todos los clientes\n",
    "clients = run_query(get_clients_query)"
   ]
  },
  {
   "cell_type": "markdown",
   "id": "980f425e",
   "metadata": {},
   "source": [
    "# Post nuevo cliente"
   ]
  },
  {
   "cell_type": "code",
   "execution_count": null,
   "id": "2ed2d7c6",
   "metadata": {},
   "outputs": [],
   "source": [
    "class ValidationError(Exception):\n",
    "    pass\n",
    "\n",
    "\n",
    "NAME_REGEX = re.compile(r\"^[A-Za-zÁÉÍÓÚÑáéíóúñ\\s']+$\")\n",
    "PHONE_REGEX = re.compile(r\"^[0-9+\\-\\s()]+$\")\n",
    "EMAIL_REGEX = re.compile(r\"^[A-Za-z0-9._%+-]+@[A-Za-z0-9.-]+\\.[A-Za-z]{2,}$\")\n",
    "CUIL_REGEX = re.compile(r\"^\\d{2}-\\d{8}-\\d$\")  # ajustalo si aceptás otro formato\n",
    "\n",
    "def validate_client_payload(payload: dict[str, str]) -> dict[str, str]:\n",
    "    \"\"\"\n",
    "    Valida que todos los campos del cliente estén presentes y en formato correcto.\n",
    "    \"\"\"\n",
    "    required = [\n",
    "        \"razon_social\",\n",
    "        \"email\",\n",
    "        \"cuil\",\n",
    "        \"nombre_contacto\",\n",
    "        \"apellido_contacto\",\n",
    "        \"telefono\",\n",
    "    ]\n",
    "    missing = [key for key in required if not payload.get(key)]\n",
    "    if missing:\n",
    "        raise ValidationError(f\"Faltan campos obligatorios: {', '.join(missing)}\")\n",
    "\n",
    "    email = payload[\"email\"].strip()\n",
    "    if not EMAIL_REGEX.fullmatch(email):\n",
    "        raise ValidationError(\"email no tiene un formato válido.\")\n",
    "\n",
    "    cuil = payload[\"cuil\"].strip()\n",
    "    if not CUIL_REGEX.fullmatch(cuil):\n",
    "        raise ValidationError(\"cuil no respeta el formato ##-########-#.\")\n",
    "\n",
    "    nombre = payload[\"nombre_contacto\"].strip()\n",
    "    if not NAME_REGEX.fullmatch(nombre):\n",
    "        raise ValidationError(\"nombre_contacto solo admite letras y espacios.\")\n",
    "\n",
    "    apellido = payload[\"apellido_contacto\"].strip()\n",
    "    if not NAME_REGEX.fullmatch(apellido):\n",
    "        raise ValidationError(\"apellido_contacto solo admite letras y espacios.\")\n",
    "\n",
    "    telefono = payload[\"telefono\"].strip()\n",
    "    if not PHONE_REGEX.fullmatch(telefono):\n",
    "        raise ValidationError(\"telefono solo admite dígitos, +, -, () y espacios.\")\n",
    "\n",
    "    return {\n",
    "        \"razon_social\": payload[\"razon_social\"].strip(),\n",
    "        \"email\": email,\n",
    "        \"cuil\": cuil,\n",
    "        \"nombre_contacto\": nombre,\n",
    "        \"apellido_contacto\": apellido,\n",
    "        \"telefono\": telefono,\n",
    "    }"
   ]
  },
  {
   "cell_type": "code",
   "execution_count": null,
   "id": "c7437df2",
   "metadata": {},
   "outputs": [],
   "source": [
    "input_payload = {\n",
    "  \"razon_social\": \"Panificados SRL\",\n",
    "  \"email\": \"abc@hotmail.com\",\n",
    "  \"cuil\": \"30-23456728-9\",\n",
    "  \"nombre_contacto\": \"Ana\",\n",
    "  \"apellido_contacto\": \"Gimenez\",\n",
    "  \"telefono\": \"1155556677\"\n",
    "}"
   ]
  },
  {
   "cell_type": "code",
   "execution_count": null,
   "id": "5b523ed0",
   "metadata": {},
   "outputs": [],
   "source": [
    "try:\n",
    "    data = validate_client_payload(input_payload)\n",
    "except ValidationError as exc:\n",
    "    #return {\"statusCode\": 400, \"body\": json.dumps({\"message\": str(exc)})}\n",
    "    print({\"statusCode\": 400, \"body\": json.dumps({\"message\": str(exc)})})"
   ]
  },
  {
   "cell_type": "code",
   "execution_count": null,
   "id": "056505af",
   "metadata": {},
   "outputs": [],
   "source": [
    "\n",
    "run_command(\n",
    "    f\"\"\"\n",
    "    INSERT INTO {ENV}.cliente\n",
    "        (razon_social, email, cuil, nombre_contacto, apellido_contacto, telefono)\n",
    "    VALUES\n",
    "        ('{data[\"razon_social\"]}', '{data[\"email\"]}', '{data[\"cuil\"]}',\n",
    "         '{data[\"nombre_contacto\"]}', '{data[\"apellido_contacto\"]}', '{data[\"telefono\"]}');\n",
    "    \"\"\"\n",
    ")"
   ]
  },
  {
   "cell_type": "markdown",
   "id": "73f3dfc5",
   "metadata": {},
   "source": [
    "# get orden venta"
   ]
  },
  {
   "cell_type": "code",
   "execution_count": null,
   "id": "be70de62",
   "metadata": {},
   "outputs": [],
   "source": [
    "input_payload = {\n",
    "  \"id\": \"3\",\n",
    "}"
   ]
  },
  {
   "cell_type": "code",
   "execution_count": null,
   "id": "25d1aeeb",
   "metadata": {},
   "outputs": [],
   "source": [
    "get_orden_venta_query = f\"select * from {ENV}.orden_venta limit 20;\"\n",
    "pedidos = run_query(get_orden_venta_query)\n",
    "print(pedidos)"
   ]
  },
  {
   "cell_type": "markdown",
   "id": "b7c5cb06",
   "metadata": {},
   "source": [
    "# get orden venta by id vendedor"
   ]
  },
  {
   "cell_type": "code",
   "execution_count": null,
   "id": "4363156a",
   "metadata": {},
   "outputs": [],
   "source": [
    "get_id_empleado = int(input_payload[\"id\"])\n",
    "get_pedido_query_vendedor = f\"select * from {ENV}.orden_venta where id_empleado = {get_id_empleado};\"\n",
    "pedido = run_query(get_pedido_query_vendedor)\n",
    "print(pedidos)"
   ]
  },
  {
   "cell_type": "markdown",
   "id": "150b90f4",
   "metadata": {},
   "source": [
    "# get orden venta by id cliente"
   ]
  },
  {
   "cell_type": "code",
   "execution_count": null,
   "id": "c6d9a0e2",
   "metadata": {},
   "outputs": [],
   "source": [
    "input_payload = {\n",
    "  \"id\": \"lucas\"\n",
    "}\n",
    "\n",
    "try:\n",
    "    get_id_pedido = int(input_payload[\"id\"])\n",
    "except ValueError as exc:\n",
    "    print({\n",
    "        \"statusCode\": 400,\n",
    "        \"body\": json.dumps({\"message\": f\"ID inválido: {exc}\"})\n",
    "    })\n",
    "\n",
    "get_id_cliente = int(input_payload[\"id\"])\n",
    "get_pedido_query_cliente = f\"select * from {ENV}.orden_venta where id_cliente = {get_id_cliente};\"\n",
    "pedido = run_query(get_pedido_query_cliente)\n",
    "print(pedidos)"
   ]
  },
  {
   "cell_type": "markdown",
   "id": "f2ffaeae",
   "metadata": {},
   "source": [
    "# get orden venta by id pedido"
   ]
  },
  {
   "cell_type": "code",
   "execution_count": null,
   "id": "b9f4d4ef",
   "metadata": {},
   "outputs": [],
   "source": [
    "input_payload = {\n",
    "  \"id\": \"lucas\"\n",
    "}\n",
    "\n",
    "try:\n",
    "    get_id_pedido = int(input_payload[\"id\"])\n",
    "except ValueError as exc:\n",
    "    print({\n",
    "        \"statusCode\": 400,\n",
    "        \"body\": json.dumps({\"message\": f\"ID inválido: {exc}\"})\n",
    "    })\n",
    "\n",
    "get_pedido_query_pedido = f\"select * from {ENV}.orden_venta where id = {get_id_pedido};\"\n",
    "pedido = run_query(get_pedido_query_pedido)\n",
    "print(pedido)"
   ]
  },
  {
   "cell_type": "code",
   "execution_count": null,
   "id": "8e2f25b4",
   "metadata": {},
   "outputs": [],
   "source": []
  },
  {
   "cell_type": "markdown",
   "id": "d591dbc1",
   "metadata": {},
   "source": [
    "# get orden venta by estado"
   ]
  },
  {
   "cell_type": "code",
   "execution_count": null,
   "id": "9d5c8ea7",
   "metadata": {},
   "outputs": [],
   "source": [
    "input_payload2 = {\n",
    "  \"estado\": \"pendiente\",\n",
    "}\n",
    "estados_orden_venta = [\n",
    "    'pendiente',\n",
    "    'confirmada',\n",
    "    'cancelada',\n",
    "    'en_produccion',\n",
    "    'lista',\n",
    "    'entregada'\n",
    "]\n",
    "\n",
    "get_estado = str(input_payload2[\"estado\"])\n",
    "\n",
    "if get_estado not in estados_orden_venta:\n",
    "    raise ValidationError(f\"El estado '{get_estado}' NO existe\")\n",
    "else: \n",
    "    get_pedido_query_estado = f\"select * from {ENV}.orden_venta where estado = '{get_estado}';\"\n",
    "    pedido = run_query(get_pedido_query_estado)\n",
    "    print(pedido)\n"
   ]
  },
  {
   "cell_type": "markdown",
   "id": "56095877",
   "metadata": {},
   "source": [
    "# get productos (select id, nombre from producto)"
   ]
  },
  {
   "cell_type": "code",
   "execution_count": null,
   "id": "864bec88",
   "metadata": {},
   "outputs": [],
   "source": [
    "get_productos_query = f'SELECT id,nombre FROM {ENV}.producto'\n",
    "\n",
    "# Obtengo todos los productos\n",
    "productos = run_query(get_productos_query)\n",
    "print(productos)"
   ]
  },
  {
   "cell_type": "markdown",
   "id": "85e398ba",
   "metadata": {},
   "source": [
    "# get ordenes_produccion limit 20"
   ]
  },
  {
   "cell_type": "code",
   "execution_count": null,
   "id": "a7f7f659",
   "metadata": {},
   "outputs": [],
   "source": [
    "get_ordenes_produccion_limit20_query = f'SELECT * FROM {ENV}.orden_produccion ORDER BY fecha_creacion DESC LIMIT 20'\n",
    "\n",
    "# Obtengo todos las ultimas 20 ordenes de produccion\n",
    "ordenes_produccion = run_query(get_ordenes_produccion_limit20_query)\n",
    "print(ordenes_produccion)"
   ]
  }
 ],
 "metadata": {
  "kernelspec": {
   "display_name": "Python 3",
   "language": "python",
   "name": "python3"
  },
  "language_info": {
   "codemirror_mode": {
    "name": "ipython",
    "version": 3
   },
   "file_extension": ".py",
   "mimetype": "text/x-python",
   "name": "python",
   "nbconvert_exporter": "python",
   "pygments_lexer": "ipython3",
   "version": "3.12.9"
  }
 },
 "nbformat": 4,
 "nbformat_minor": 5
}
