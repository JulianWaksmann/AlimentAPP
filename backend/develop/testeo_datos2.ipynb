{
 "cells": [
  {
   "cell_type": "code",
   "execution_count": 1,
   "id": "e5d80c6d",
   "metadata": {},
   "outputs": [],
   "source": [
    "import os\n",
    "import ssl\n",
    "import pg8000\n",
    "import re"
   ]
  },
  {
   "cell_type": "code",
   "execution_count": 2,
   "id": "5626d6d1",
   "metadata": {},
   "outputs": [],
   "source": [
    "# conexion a RDS usando el bundle de Amazon, esto no es necesario desde lambda\n",
    "RDS_CA_PATH = os.getenv(\n",
    "    \"RDS_SSL_CA\",\n",
    "    r\"C:\\Users\\Julian Waksmann\\Documents\\03 UNIVERSIDAD\\AlimentAPP\\global-bundle.pem\",\n",
    ")\n",
    "\n",
    "ssl_context = ssl.create_default_context(cafile=RDS_CA_PATH)"
   ]
  },
  {
   "cell_type": "code",
   "execution_count": 3,
   "id": "58011f31",
   "metadata": {},
   "outputs": [],
   "source": [
    "# Variables\n",
    "ENV = 'dev'\n",
    "PASSWORD_INPUT = input('ingrese contraseña')"
   ]
  },
  {
   "cell_type": "code",
   "execution_count": 4,
   "id": "d175f08a",
   "metadata": {},
   "outputs": [],
   "source": [
    "def get_connection():\n",
    "    \"\"\"\n",
    "    Abre una conexion pg8000 con SSL.\n",
    "    \"\"\"\n",
    "    return pg8000.connect(\n",
    "        host='db-alimentapp.cm7oyoiiqchb.us-east-1.rds.amazonaws.com',\n",
    "        port=5432,\n",
    "        database='postgres',\n",
    "        user='labo_team',\n",
    "        password=PASSWORD_INPUT,\n",
    "        ssl_context=ssl_context,\n",
    "        timeout=10,\n",
    "    )"
   ]
  },
  {
   "cell_type": "code",
   "execution_count": 27,
   "id": "214a638f",
   "metadata": {},
   "outputs": [],
   "source": [
    "def run_query(sql: str):\n",
    "    \"\"\"\n",
    "    Ejecuta un SELECT y devuelve filas como diccionarios.\n",
    "    \"\"\"\n",
    "    cur = conn.cursor()\n",
    "    cur.execute(sql)\n",
    "    rows = cur.fetchall()\n",
    "    if not rows:\n",
    "        return []\n",
    "    columns = [desc[0] for desc in cur.description]\n",
    "    return [dict(zip(columns, row)) for row in rows]\n",
    "\n",
    "def run_command(sql: str):\n",
    "    \"\"\"\n",
    "    Ejecuta INSERT/UPDATE/DELETE y hace commit.\n",
    "    \"\"\"\n",
    "    cur = conn.cursor()\n",
    "    cur.execute(sql)\n",
    "    conn.commit()"
   ]
  },
  {
   "cell_type": "markdown",
   "id": "c084b7bf",
   "metadata": {},
   "source": [
    "# Post nuevo pedido / orden de venta"
   ]
  },
  {
   "cell_type": "code",
   "execution_count": 76,
   "id": "bdcdfe5f",
   "metadata": {},
   "outputs": [],
   "source": [
    "import json\n",
    "from typing import Any, Dict, List\n",
    "from datetime import date\n",
    "\n",
    "class ValidationError(Exception):\n",
    "    \"\"\"\n",
    "    Error de validación para payloads de orden de venta.\n",
    "    \"\"\"\n",
    "\n",
    "def create_production_orders(order_id: int, items: List[Dict[str, int]]) -> None:\n",
    "    \"\"\"\n",
    "    Genera ordenes_produccion 'planificadas' para los productos recibidos.\n",
    "    \"\"\"\n",
    "    for item in items:\n",
    "        run_command(\n",
    "            f\"\"\"\n",
    "            INSERT INTO {ENV}.orden_produccion\n",
    "                (id_orden_venta, id_producto, cantidad, estado)\n",
    "            VALUES\n",
    "                ({order_id}, {item['id_producto']}, {item['cantidad']}, 'planificada')\n",
    "            \"\"\"\n",
    "        )\n",
    "        \n",
    "def validate_sale_order_payload(payload: Dict[str, Any]):\n",
    "    \"\"\"\n",
    "    Valida que la orden tenga todos los campos obligatorios y datos correctos.\n",
    "    \"\"\"\n",
    "    required = [\"id_vendedor\", \"id_cliente\", \"productos\", \"fecha_entrega_solicitada\"]\n",
    "    missing = [key for key in required if not payload.get(key)]\n",
    "    if missing:\n",
    "        raise ValidationError(f\"Faltan campos obligatorios: {', '.join(missing)}\")\n",
    "\n",
    "    fecha_entrega = payload[\"fecha_entrega_solicitada\"]\n",
    "\n",
    "    try:\n",
    "        fecha_entrega_date = date.fromisoformat(fecha_entrega)\n",
    "    except ValueError:\n",
    "        raise ValidationError(\"fecha_entrega_solicitada debe tener formato AAAA-MM-DD.\")\n",
    "\n",
    "    if fecha_entrega_date <= date.today():\n",
    "        raise ValidationError(\"fecha_entrega_solicitada debe ser posterior a la fecha actual.\")\n",
    "    \n",
    "    if not run_query(f\"SELECT 1 FROM {ENV}.cliente WHERE id = {int(payload['id_cliente'])}\"):\n",
    "        raise ValidationError(\"El id_cliente indicado no existe.\")\n",
    "\n",
    "    if not run_query(\n",
    "        f\"SELECT 1 FROM {ENV}.empleado WHERE id = {int(payload['id_vendedor'])} AND activo = TRUE\"\n",
    "    ):\n",
    "        raise ValidationError(\"El id_vendedor indicado no existe o está inactivo.\")\n",
    "\n",
    "    productos = payload[\"productos\"]\n",
    "    if not isinstance(productos, list) or not productos:\n",
    "        raise ValidationError(\"productos debe ser una lista con al menos un item.\")\n",
    "\n",
    "    items: List[Dict[str, int]] = []\n",
    "    total = 0.0\n",
    "    for item in productos:\n",
    "        if \"id_producto\" not in item or \"cantidad\" not in item:\n",
    "            raise ValidationError(\"Cada producto debe incluir id_producto y cantidad.\")\n",
    "        if item[\"cantidad\"] <= 0:\n",
    "            raise ValidationError(\"La cantidad de cada producto debe ser mayor a cero.\")\n",
    "\n",
    "        producto = run_query(\n",
    "            f\"SELECT precio_venta FROM {ENV}.producto \"\n",
    "            f\"WHERE id = {int(item['id_producto'])} AND activo = TRUE\"\n",
    "        )\n",
    "        if not producto:\n",
    "            raise ValidationError(f\"El producto {item['id_producto']} no existe o está inactivo.\")\n",
    "\n",
    "        precio_unit = float(producto[0][\"precio_venta\"])\n",
    "        total += precio_unit * item[\"cantidad\"]\n",
    "        items.append(\n",
    "            {\"id_producto\": int(item[\"id_producto\"]), \"cantidad\": int(item[\"cantidad\"])}\n",
    "        )\n",
    "\n",
    "    return {\n",
    "        \"id_cliente\": int(payload[\"id_cliente\"]),\n",
    "        \"id_vendedor\": int(payload[\"id_vendedor\"]),\n",
    "        \"fecha_entrega_solicitada\": fecha_entrega,\n",
    "        \"productos\": items,\n",
    "        \"total\": total,\n",
    "    }\n"
   ]
  },
  {
   "cell_type": "code",
   "execution_count": 77,
   "id": "13e0b0e1",
   "metadata": {},
   "outputs": [],
   "source": [
    "def insert_sale_order(validated: Dict[str, Any]):\n",
    "    \"\"\"\n",
    "    Inserta la orden de venta (estado 'pendiente') y devuelve el registro creado.\n",
    "    \"\"\"\n",
    "    run_command(\n",
    "        f\"\"\"\n",
    "        INSERT INTO {ENV}.orden_venta\n",
    "            (id_cliente, id_empleado, fecha_entrega_solicitada, estado, valor_total_pedido)\n",
    "        VALUES\n",
    "            ({validated['id_cliente']},\n",
    "             {validated['id_vendedor']},\n",
    "             '{validated['fecha_entrega_solicitada']}',\n",
    "             'pendiente',\n",
    "             {validated['total']})\n",
    "        \"\"\"\n",
    "    )\n",
    "\n",
    "    rows = run_query(\n",
    "        f\"\"\"\n",
    "        SELECT id, valor_total_pedido, estado, fecha_pedido\n",
    "        FROM {ENV}.orden_venta\n",
    "        WHERE id_cliente = {validated['id_cliente']}\n",
    "          AND id_empleado = {validated['id_vendedor']}\n",
    "        ORDER BY id DESC\n",
    "        LIMIT 1\n",
    "        \"\"\"\n",
    "    )\n",
    "    if not rows:\n",
    "        raise RuntimeError(\"No se pudo recuperar la orden recién creada.\")\n",
    "\n",
    "    order = rows[0]\n",
    "    create_production_orders(order[\"id\"], validated[\"productos\"])\n",
    "    return order"
   ]
  },
  {
   "cell_type": "code",
   "execution_count": 78,
   "id": "4622ab94",
   "metadata": {},
   "outputs": [],
   "source": [
    "def create_sale_order_from_payload(raw_payload: Dict[str, Any]):\n",
    "    \"\"\"\n",
    "    Valida el payload bruto y crea una orden de venta.\n",
    "    \"\"\"\n",
    "    validated = validate_sale_order_payload(raw_payload)\n",
    "    return insert_sale_order(validated)"
   ]
  },
  {
   "cell_type": "code",
   "execution_count": 79,
   "id": "052fd7ce",
   "metadata": {},
   "outputs": [],
   "source": [
    "payload_test = {\n",
    "  \"id_vendedor\": 1,\n",
    "  \"id_cliente\": 1,\n",
    "  \"productos\": [\n",
    "    {\"id_producto\": 1, \"cantidad\": 3},\n",
    "    {\"id_producto\": 2, \"cantidad\": 1}\n",
    "  ],\n",
    "  \"fecha_entrega_solicitada\": \"2025-10-01\"\n",
    "}"
   ]
  },
  {
   "cell_type": "code",
   "execution_count": 80,
   "id": "d147268f",
   "metadata": {},
   "outputs": [],
   "source": [
    "try:\n",
    "    conn = get_connection()\n",
    "    resultado = create_sale_order_from_payload(payload_test)\n",
    "finally:\n",
    "    conn.close()"
   ]
  },
  {
   "cell_type": "code",
   "execution_count": 81,
   "id": "62f75b02",
   "metadata": {},
   "outputs": [
    {
     "data": {
      "text/plain": [
       "{'id': 5,\n",
       " 'valor_total_pedido': Decimal('59000.00'),\n",
       " 'estado': 'pendiente',\n",
       " 'fecha_pedido': datetime.datetime(2025, 9, 28, 3, 20, 51, 180681, tzinfo=datetime.timezone.utc)}"
      ]
     },
     "execution_count": 81,
     "metadata": {},
     "output_type": "execute_result"
    }
   ],
   "source": [
    "resultado"
   ]
  },
  {
   "cell_type": "markdown",
   "id": "dafb2648",
   "metadata": {},
   "source": [
    "# POST estado Solicitud venta"
   ]
  },
  {
   "cell_type": "code",
   "execution_count": 87,
   "id": "8dd7dc33",
   "metadata": {},
   "outputs": [],
   "source": [
    "VALID_STATES = {\n",
    "    \"pendiente\",\n",
    "    \"confirmada\",\n",
    "    \"cancelada\",\n",
    "    \"en_produccion\",\n",
    "    \"lista\",\n",
    "    \"entregada\",\n",
    "}\n",
    "\n",
    "class ValidationError(Exception):\n",
    "    \"\"\"\n",
    "    Error de validación para payloads de orden de venta.\n",
    "    \"\"\"\n",
    "\n",
    "def update_sale_order_status(payload: Dict[str, Any]) -> Dict[str, Any]:\n",
    "    required = [\"id_pedido\", \"estado\"]\n",
    "    missing = [key for key in required if not payload.get(key)]\n",
    "    if missing:\n",
    "        raise ValidationError(f\"Faltan campos obligatorios: {', '.join(missing)}\")\n",
    "\n",
    "    order_id = int(payload[\"id_pedido\"])\n",
    "    new_status = str(payload[\"estado\"]).lower()\n",
    "\n",
    "    if new_status not in VALID_STATES:\n",
    "        raise ValidationError(\n",
    "            f\"Estado inválido: {new_status}. Valores permitidos: {', '.join(sorted(VALID_STATES))}\"\n",
    "        )\n",
    "\n",
    "    rows = run_query(f\"SELECT estado FROM {ENV}.orden_venta WHERE id = {order_id}\")\n",
    "    if not rows:\n",
    "        raise ValidationError(\"La orden de venta indicada no existe.\")\n",
    "\n",
    "    current_status = rows[0][\"estado\"]\n",
    "    if current_status == new_status:\n",
    "        raise ValidationError(\n",
    "            f\"La orden {order_id} ya estaba en estado '{new_status}'.\"\n",
    "        )\n",
    "\n",
    "    run_command(\n",
    "        f\"UPDATE {ENV}.orden_venta SET estado = '{new_status}' WHERE id = {order_id}\"\n",
    "    )\n",
    "\n",
    "    if new_status == \"cancelada\":\n",
    "        run_command(\n",
    "            f\"UPDATE {ENV}.orden_produccion \"\n",
    "            f\"SET estado = 'cancelada' \"\n",
    "            f\"WHERE id_orden_venta = {order_id}\"\n",
    "        )\n",
    "    elif new_status == \"en_produccion\":\n",
    "        run_command(\n",
    "            f\"UPDATE {ENV}.orden_produccion \"\n",
    "            f\"SET estado = 'en_proceso' \"\n",
    "            f\"WHERE id_orden_venta = {order_id}\"\n",
    "        )\n",
    "    elif new_status == \"lista\":\n",
    "        run_command(\n",
    "            f\"\"\"\n",
    "            UPDATE {ENV}.orden_produccion\n",
    "            SET estado = 'finalizada',\n",
    "                fecha_fin = NOW()\n",
    "            WHERE id_orden_venta = {order_id}\n",
    "            \"\"\"\n",
    "        )\n",
    "\n",
    "    return {\n",
    "        \"statusCode\": 200,\n",
    "        \"body\": f\"Estado de la orden {order_id} actualizado de '{current_status}' a '{new_status}'.\",\n",
    "    }\n"
   ]
  },
  {
   "cell_type": "code",
   "execution_count": 92,
   "id": "dc3ee25d",
   "metadata": {},
   "outputs": [],
   "source": [
    "input_json = {\"id_pedido\": 5, \"estado\": \"lista\"}"
   ]
  },
  {
   "cell_type": "code",
   "execution_count": 93,
   "id": "1f6f3084",
   "metadata": {},
   "outputs": [
    {
     "name": "stdout",
     "output_type": "stream",
     "text": [
      "{'statusCode': 400, 'body': \"La orden 5 ya estaba en estado 'lista'.\"}\n"
     ]
    }
   ],
   "source": [
    "conn = get_connection()\n",
    "try:\n",
    "    response = update_sale_order_status(input_json)\n",
    "except ValidationError as exc:\n",
    "    response = {\"statusCode\": 400, \"body\": str(exc)}\n",
    "finally:\n",
    "    conn.close()\n",
    "\n",
    "print(response)"
   ]
  },
  {
   "cell_type": "markdown",
   "id": "88a91ca5",
   "metadata": {},
   "source": [
    "# POST estado orden de produccion/trabajo"
   ]
  },
  {
   "cell_type": "code",
   "execution_count": null,
   "id": "88ecacd6",
   "metadata": {},
   "outputs": [
    {
     "ename": "",
     "evalue": "",
     "output_type": "error",
     "traceback": [
      "\u001b[1;31mThe Kernel crashed while executing code in the current cell or a previous cell. \n",
      "\u001b[1;31mPlease review the code in the cell(s) to identify a possible cause of the failure. \n",
      "\u001b[1;31mClick <a href='https://aka.ms/vscodeJupyterKernelCrash'>here</a> for more info. \n",
      "\u001b[1;31mView Jupyter <a href='command:jupyter.viewOutput'>log</a> for further details."
     ]
    }
   ],
   "source": [
    "# hace falta? los estados se actualizan directamente en pedido y en consecuencia se actualizan solos en orden de produccion"
   ]
  },
  {
   "cell_type": "code",
   "execution_count": null,
   "id": "827438e6",
   "metadata": {},
   "outputs": [],
   "source": [
    "PROD_STATES = {\n",
    "    \"planificada\",\n",
    "    \"en_proceso\",\n",
    "    \"cancelada\",\n",
    "}\n",
    "\n",
    "def update_production_order_status(payload: Dict[str, Any]) -> Dict[str, Any]:\n",
    "    \"\"\"\n",
    "    Actualiza el estado de una orden_produccion usando run_query/run_command.\n",
    "    \"\"\"\n",
    "    required = [\"id_orden\", \"estado\"]\n",
    "    missing = [key for key in required if not payload.get(key)]\n",
    "    if missing:\n",
    "        raise ValidationError(f\"Faltan campos obligatorios: {', '.join(missing)}\")\n",
    "\n",
    "    order_id = int(payload[\"id_orden\"])\n",
    "    new_status = str(payload[\"estado\"]).lower()\n",
    "\n",
    "    if new_status not in PROD_STATES:\n",
    "        raise ValidationError(\n",
    "            f\"Estado inválido: {new_status}. Valores permitidos: {', '.join(sorted(PROD_STATES))}\"\n",
    "        )\n",
    "\n",
    "    rows = run_query(f\"SELECT estado FROM {ENV}.orden_produccion WHERE id = {order_id}\")\n",
    "    if not rows:\n",
    "        raise ValidationError(\"La orden de producción indicada no existe.\")\n",
    "\n",
    "    current_status = rows[0][\"estado\"]\n",
    "    if current_status == new_status:\n",
    "        raise ValidationError(f\"La orden {order_id} ya estaba en estado '{new_status}'.\")\n",
    "\n",
    "    run_command(\n",
    "        f\"UPDATE {ENV}.orden_produccion SET estado = '{new_status}' WHERE id = {order_id}\"\n",
    "    )\n",
    "\n",
    "    return {\n",
    "        \"statusCode\": 200,\n",
    "        \"body\": f\"Estado de la orden de producción {order_id} actualizado de '{current_status}' a '{new_status}'.\",\n",
    "    }"
   ]
  },
  {
   "cell_type": "code",
   "execution_count": null,
   "id": "d7b1d5f6",
   "metadata": {},
   "outputs": [],
   "source": [
    "input_json = {\"id_orden\": 3, \"estado\": \"en_proceso\"}"
   ]
  },
  {
   "cell_type": "code",
   "execution_count": 60,
   "id": "245de964",
   "metadata": {},
   "outputs": [
    {
     "name": "stdout",
     "output_type": "stream",
     "text": [
      "{'statusCode': 400, 'body': 'La orden de producción indicada no existe.'}\n"
     ]
    }
   ],
   "source": [
    "conn = get_connection()\n",
    "try:\n",
    "    response = update_production_order_status(input_json)\n",
    "except ValidationError as exc:\n",
    "    response = {\"statusCode\": 400, \"body\": str(exc)}\n",
    "finally:\n",
    "    conn.close()\n",
    "\n",
    "print(response)"
   ]
  }
 ],
 "metadata": {
  "kernelspec": {
   "display_name": "Python 3",
   "language": "python",
   "name": "python3"
  },
  "language_info": {
   "codemirror_mode": {
    "name": "ipython",
    "version": 3
   },
   "file_extension": ".py",
   "mimetype": "text/x-python",
   "name": "python",
   "nbconvert_exporter": "python",
   "pygments_lexer": "ipython3",
   "version": "3.12.0"
  }
 },
 "nbformat": 4,
 "nbformat_minor": 5
}
